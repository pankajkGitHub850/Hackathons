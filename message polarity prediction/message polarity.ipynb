{
 "cells": [
  {
   "cell_type": "code",
   "execution_count": 1,
   "metadata": {},
   "outputs": [],
   "source": [
    "import numpy as np\n",
    "import pandas as pd\n",
    "import seaborn as sns\n",
    "import matplotlib.pyplot as plt\n",
    "from lightgbm import LGBMClassifier\n",
    "from xgboost import XGBClassifier\n",
    "from sklearn.metrics import f1_score,confusion_matrix\n",
    "from sklearn.model_selection import train_test_split,GridSearchCV\n",
    "from imblearn.over_sampling import SMOTE"
   ]
  },
  {
   "cell_type": "code",
   "execution_count": 22,
   "metadata": {},
   "outputs": [
    {
     "data": {
      "text/html": [
       "<div>\n",
       "<style scoped>\n",
       "    .dataframe tbody tr th:only-of-type {\n",
       "        vertical-align: middle;\n",
       "    }\n",
       "\n",
       "    .dataframe tbody tr th {\n",
       "        vertical-align: top;\n",
       "    }\n",
       "\n",
       "    .dataframe thead th {\n",
       "        text-align: right;\n",
       "    }\n",
       "</style>\n",
       "<table border=\"1\" class=\"dataframe\">\n",
       "  <thead>\n",
       "    <tr style=\"text-align: right;\">\n",
       "      <th></th>\n",
       "      <th>Freq_Of_Word_1</th>\n",
       "      <th>Freq_Of_Word_2</th>\n",
       "      <th>Freq_Of_Word_3</th>\n",
       "      <th>Freq_Of_Word_4</th>\n",
       "      <th>Freq_Of_Word_5</th>\n",
       "      <th>Freq_Of_Word_6</th>\n",
       "      <th>Freq_Of_Word_7</th>\n",
       "      <th>Freq_Of_Word_8</th>\n",
       "      <th>Freq_Of_Word_9</th>\n",
       "      <th>Freq_Of_Word_10</th>\n",
       "      <th>...</th>\n",
       "      <th>Freq_Of_Word_45</th>\n",
       "      <th>Freq_Of_Word_46</th>\n",
       "      <th>Freq_Of_Word_47</th>\n",
       "      <th>Freq_Of_Word_48</th>\n",
       "      <th>Freq_Of_Word_49</th>\n",
       "      <th>Freq_Of_Word_50</th>\n",
       "      <th>TotalEmojiCharacters</th>\n",
       "      <th>LengthOFFirstParagraph</th>\n",
       "      <th>StylizedLetters</th>\n",
       "      <th>IsGoodNews</th>\n",
       "    </tr>\n",
       "  </thead>\n",
       "  <tbody>\n",
       "    <tr>\n",
       "      <th>0</th>\n",
       "      <td>-0.351864</td>\n",
       "      <td>2.620660</td>\n",
       "      <td>1.253645</td>\n",
       "      <td>-0.039223</td>\n",
       "      <td>-0.465210</td>\n",
       "      <td>-0.353977</td>\n",
       "      <td>-0.304257</td>\n",
       "      <td>-0.240708</td>\n",
       "      <td>-0.318797</td>\n",
       "      <td>-0.352968</td>\n",
       "      <td>...</td>\n",
       "      <td>-0.323019</td>\n",
       "      <td>-0.205212</td>\n",
       "      <td>-0.079531</td>\n",
       "      <td>-0.118688</td>\n",
       "      <td>0.079303</td>\n",
       "      <td>0.157385</td>\n",
       "      <td>-0.028751</td>\n",
       "      <td>-0.046474</td>\n",
       "      <td>0.222453</td>\n",
       "      <td>1</td>\n",
       "    </tr>\n",
       "    <tr>\n",
       "      <th>1</th>\n",
       "      <td>-0.351864</td>\n",
       "      <td>-0.318036</td>\n",
       "      <td>-0.561952</td>\n",
       "      <td>-0.039223</td>\n",
       "      <td>-0.465210</td>\n",
       "      <td>-0.353977</td>\n",
       "      <td>-0.304257</td>\n",
       "      <td>3.837751</td>\n",
       "      <td>-0.318797</td>\n",
       "      <td>-0.352968</td>\n",
       "      <td>...</td>\n",
       "      <td>-0.323019</td>\n",
       "      <td>-0.205212</td>\n",
       "      <td>-0.079531</td>\n",
       "      <td>-0.118688</td>\n",
       "      <td>-0.151911</td>\n",
       "      <td>-0.453742</td>\n",
       "      <td>-0.107383</td>\n",
       "      <td>-0.195476</td>\n",
       "      <td>-0.408024</td>\n",
       "      <td>0</td>\n",
       "    </tr>\n",
       "    <tr>\n",
       "      <th>2</th>\n",
       "      <td>-0.351864</td>\n",
       "      <td>-0.318036</td>\n",
       "      <td>-0.561952</td>\n",
       "      <td>-0.039223</td>\n",
       "      <td>-0.465210</td>\n",
       "      <td>-0.353977</td>\n",
       "      <td>-0.304257</td>\n",
       "      <td>-0.240708</td>\n",
       "      <td>-0.318797</td>\n",
       "      <td>-0.352968</td>\n",
       "      <td>...</td>\n",
       "      <td>-0.323019</td>\n",
       "      <td>-0.205212</td>\n",
       "      <td>-0.079531</td>\n",
       "      <td>-0.118688</td>\n",
       "      <td>-0.151911</td>\n",
       "      <td>-0.453742</td>\n",
       "      <td>-0.107383</td>\n",
       "      <td>-0.187634</td>\n",
       "      <td>-0.392578</td>\n",
       "      <td>0</td>\n",
       "    </tr>\n",
       "    <tr>\n",
       "      <th>3</th>\n",
       "      <td>1.210190</td>\n",
       "      <td>2.682528</td>\n",
       "      <td>1.291868</td>\n",
       "      <td>-0.039223</td>\n",
       "      <td>0.221744</td>\n",
       "      <td>-0.353977</td>\n",
       "      <td>-0.304257</td>\n",
       "      <td>0.859101</td>\n",
       "      <td>-0.318797</td>\n",
       "      <td>2.374782</td>\n",
       "      <td>...</td>\n",
       "      <td>-0.323019</td>\n",
       "      <td>-0.205212</td>\n",
       "      <td>-0.079531</td>\n",
       "      <td>-0.118688</td>\n",
       "      <td>-0.151911</td>\n",
       "      <td>0.340723</td>\n",
       "      <td>1.334201</td>\n",
       "      <td>2.270899</td>\n",
       "      <td>0.602985</td>\n",
       "      <td>1</td>\n",
       "    </tr>\n",
       "    <tr>\n",
       "      <th>4</th>\n",
       "      <td>-0.351864</td>\n",
       "      <td>-0.318036</td>\n",
       "      <td>-0.561952</td>\n",
       "      <td>-0.039223</td>\n",
       "      <td>-0.465210</td>\n",
       "      <td>-0.353977</td>\n",
       "      <td>-0.304257</td>\n",
       "      <td>-0.240708</td>\n",
       "      <td>-0.318797</td>\n",
       "      <td>-0.352968</td>\n",
       "      <td>...</td>\n",
       "      <td>-0.323019</td>\n",
       "      <td>-0.205212</td>\n",
       "      <td>-0.079531</td>\n",
       "      <td>-0.118688</td>\n",
       "      <td>-0.151911</td>\n",
       "      <td>0.930461</td>\n",
       "      <td>-0.028751</td>\n",
       "      <td>-0.113133</td>\n",
       "      <td>-0.128592</td>\n",
       "      <td>0</td>\n",
       "    </tr>\n",
       "  </tbody>\n",
       "</table>\n",
       "<p>5 rows × 54 columns</p>\n",
       "</div>"
      ],
      "text/plain": [
       "   Freq_Of_Word_1  Freq_Of_Word_2  Freq_Of_Word_3  Freq_Of_Word_4  \\\n",
       "0       -0.351864        2.620660        1.253645       -0.039223   \n",
       "1       -0.351864       -0.318036       -0.561952       -0.039223   \n",
       "2       -0.351864       -0.318036       -0.561952       -0.039223   \n",
       "3        1.210190        2.682528        1.291868       -0.039223   \n",
       "4       -0.351864       -0.318036       -0.561952       -0.039223   \n",
       "\n",
       "   Freq_Of_Word_5  Freq_Of_Word_6  Freq_Of_Word_7  Freq_Of_Word_8  \\\n",
       "0       -0.465210       -0.353977       -0.304257       -0.240708   \n",
       "1       -0.465210       -0.353977       -0.304257        3.837751   \n",
       "2       -0.465210       -0.353977       -0.304257       -0.240708   \n",
       "3        0.221744       -0.353977       -0.304257        0.859101   \n",
       "4       -0.465210       -0.353977       -0.304257       -0.240708   \n",
       "\n",
       "   Freq_Of_Word_9  Freq_Of_Word_10  ...  Freq_Of_Word_45  Freq_Of_Word_46  \\\n",
       "0       -0.318797        -0.352968  ...        -0.323019        -0.205212   \n",
       "1       -0.318797        -0.352968  ...        -0.323019        -0.205212   \n",
       "2       -0.318797        -0.352968  ...        -0.323019        -0.205212   \n",
       "3       -0.318797         2.374782  ...        -0.323019        -0.205212   \n",
       "4       -0.318797        -0.352968  ...        -0.323019        -0.205212   \n",
       "\n",
       "   Freq_Of_Word_47  Freq_Of_Word_48  Freq_Of_Word_49  Freq_Of_Word_50  \\\n",
       "0        -0.079531        -0.118688         0.079303         0.157385   \n",
       "1        -0.079531        -0.118688        -0.151911        -0.453742   \n",
       "2        -0.079531        -0.118688        -0.151911        -0.453742   \n",
       "3        -0.079531        -0.118688        -0.151911         0.340723   \n",
       "4        -0.079531        -0.118688        -0.151911         0.930461   \n",
       "\n",
       "   TotalEmojiCharacters  LengthOFFirstParagraph  StylizedLetters  IsGoodNews  \n",
       "0             -0.028751               -0.046474         0.222453           1  \n",
       "1             -0.107383               -0.195476        -0.408024           0  \n",
       "2             -0.107383               -0.187634        -0.392578           0  \n",
       "3              1.334201                2.270899         0.602985           1  \n",
       "4             -0.028751               -0.113133        -0.128592           0  \n",
       "\n",
       "[5 rows x 54 columns]"
      ]
     },
     "execution_count": 22,
     "metadata": {},
     "output_type": "execute_result"
    }
   ],
   "source": [
    "train=pd.read_csv(r'D:\\Downloads\\MessagePolarity_ParticipantsData\\MessagePolarity_ParticipantsData\\train.csv')\n",
    "train.head()"
   ]
  },
  {
   "cell_type": "code",
   "execution_count": 23,
   "metadata": {},
   "outputs": [
    {
     "data": {
      "text/plain": [
       "0    579\n",
       "1    368\n",
       "Name: IsGoodNews, dtype: int64"
      ]
     },
     "execution_count": 23,
     "metadata": {},
     "output_type": "execute_result"
    }
   ],
   "source": [
    "train.IsGoodNews.value_counts()"
   ]
  },
  {
   "cell_type": "code",
   "execution_count": 24,
   "metadata": {},
   "outputs": [
    {
     "data": {
      "text/html": [
       "<div>\n",
       "<style scoped>\n",
       "    .dataframe tbody tr th:only-of-type {\n",
       "        vertical-align: middle;\n",
       "    }\n",
       "\n",
       "    .dataframe tbody tr th {\n",
       "        vertical-align: top;\n",
       "    }\n",
       "\n",
       "    .dataframe thead th {\n",
       "        text-align: right;\n",
       "    }\n",
       "</style>\n",
       "<table border=\"1\" class=\"dataframe\">\n",
       "  <thead>\n",
       "    <tr style=\"text-align: right;\">\n",
       "      <th></th>\n",
       "      <th>Freq_Of_Word_1</th>\n",
       "      <th>Freq_Of_Word_2</th>\n",
       "      <th>Freq_Of_Word_3</th>\n",
       "      <th>Freq_Of_Word_4</th>\n",
       "      <th>Freq_Of_Word_5</th>\n",
       "      <th>Freq_Of_Word_6</th>\n",
       "      <th>Freq_Of_Word_7</th>\n",
       "      <th>Freq_Of_Word_8</th>\n",
       "      <th>Freq_Of_Word_9</th>\n",
       "      <th>Freq_Of_Word_10</th>\n",
       "      <th>...</th>\n",
       "      <th>Freq_Of_Word_45</th>\n",
       "      <th>Freq_Of_Word_46</th>\n",
       "      <th>Freq_Of_Word_47</th>\n",
       "      <th>Freq_Of_Word_48</th>\n",
       "      <th>Freq_Of_Word_49</th>\n",
       "      <th>Freq_Of_Word_50</th>\n",
       "      <th>TotalEmojiCharacters</th>\n",
       "      <th>LengthOFFirstParagraph</th>\n",
       "      <th>StylizedLetters</th>\n",
       "      <th>IsGoodNews</th>\n",
       "    </tr>\n",
       "  </thead>\n",
       "  <tbody>\n",
       "    <tr>\n",
       "      <th>count</th>\n",
       "      <td>947.000000</td>\n",
       "      <td>947.000000</td>\n",
       "      <td>947.000000</td>\n",
       "      <td>947.000000</td>\n",
       "      <td>947.000000</td>\n",
       "      <td>947.000000</td>\n",
       "      <td>947.000000</td>\n",
       "      <td>947.000000</td>\n",
       "      <td>947.000000</td>\n",
       "      <td>947.000000</td>\n",
       "      <td>...</td>\n",
       "      <td>947.000000</td>\n",
       "      <td>947.000000</td>\n",
       "      <td>947.000000</td>\n",
       "      <td>947.000000</td>\n",
       "      <td>947.000000</td>\n",
       "      <td>947.000000</td>\n",
       "      <td>947.000000</td>\n",
       "      <td>947.000000</td>\n",
       "      <td>947.000000</td>\n",
       "      <td>947.000000</td>\n",
       "    </tr>\n",
       "    <tr>\n",
       "      <th>mean</th>\n",
       "      <td>0.023323</td>\n",
       "      <td>0.039056</td>\n",
       "      <td>0.020516</td>\n",
       "      <td>0.013038</td>\n",
       "      <td>-0.018424</td>\n",
       "      <td>0.002831</td>\n",
       "      <td>-0.006407</td>\n",
       "      <td>0.008428</td>\n",
       "      <td>0.044759</td>\n",
       "      <td>0.005193</td>\n",
       "      <td>...</td>\n",
       "      <td>0.059328</td>\n",
       "      <td>-0.005919</td>\n",
       "      <td>-0.031999</td>\n",
       "      <td>-0.001397</td>\n",
       "      <td>0.033669</td>\n",
       "      <td>0.013292</td>\n",
       "      <td>-0.013279</td>\n",
       "      <td>-0.021817</td>\n",
       "      <td>0.018881</td>\n",
       "      <td>0.388596</td>\n",
       "    </tr>\n",
       "    <tr>\n",
       "      <th>std</th>\n",
       "      <td>1.104679</td>\n",
       "      <td>1.085628</td>\n",
       "      <td>1.026794</td>\n",
       "      <td>1.345090</td>\n",
       "      <td>0.890268</td>\n",
       "      <td>0.970823</td>\n",
       "      <td>0.868676</td>\n",
       "      <td>1.136686</td>\n",
       "      <td>1.179691</td>\n",
       "      <td>1.129019</td>\n",
       "      <td>...</td>\n",
       "      <td>1.169027</td>\n",
       "      <td>0.959135</td>\n",
       "      <td>0.643179</td>\n",
       "      <td>0.821608</td>\n",
       "      <td>1.146482</td>\n",
       "      <td>0.860000</td>\n",
       "      <td>0.958807</td>\n",
       "      <td>0.513887</td>\n",
       "      <td>0.997459</td>\n",
       "      <td>0.487689</td>\n",
       "    </tr>\n",
       "    <tr>\n",
       "      <th>min</th>\n",
       "      <td>-0.351864</td>\n",
       "      <td>-0.318036</td>\n",
       "      <td>-0.561952</td>\n",
       "      <td>-0.039223</td>\n",
       "      <td>-0.465210</td>\n",
       "      <td>-0.353977</td>\n",
       "      <td>-0.304257</td>\n",
       "      <td>-0.240708</td>\n",
       "      <td>-0.318797</td>\n",
       "      <td>-0.352968</td>\n",
       "      <td>...</td>\n",
       "      <td>-0.323019</td>\n",
       "      <td>-0.205212</td>\n",
       "      <td>-0.079531</td>\n",
       "      <td>-0.118688</td>\n",
       "      <td>-0.151911</td>\n",
       "      <td>-0.453742</td>\n",
       "      <td>-0.107383</td>\n",
       "      <td>-0.219003</td>\n",
       "      <td>-0.427682</td>\n",
       "      <td>0.000000</td>\n",
       "    </tr>\n",
       "    <tr>\n",
       "      <th>25%</th>\n",
       "      <td>-0.351864</td>\n",
       "      <td>-0.318036</td>\n",
       "      <td>-0.561952</td>\n",
       "      <td>-0.039223</td>\n",
       "      <td>-0.465210</td>\n",
       "      <td>-0.353977</td>\n",
       "      <td>-0.304257</td>\n",
       "      <td>-0.240708</td>\n",
       "      <td>-0.318797</td>\n",
       "      <td>-0.352968</td>\n",
       "      <td>...</td>\n",
       "      <td>-0.323019</td>\n",
       "      <td>-0.205212</td>\n",
       "      <td>-0.079531</td>\n",
       "      <td>-0.118688</td>\n",
       "      <td>-0.151911</td>\n",
       "      <td>-0.453742</td>\n",
       "      <td>-0.107383</td>\n",
       "      <td>-0.195476</td>\n",
       "      <td>-0.374323</td>\n",
       "      <td>0.000000</td>\n",
       "    </tr>\n",
       "    <tr>\n",
       "      <th>50%</th>\n",
       "      <td>-0.351864</td>\n",
       "      <td>-0.318036</td>\n",
       "      <td>-0.561952</td>\n",
       "      <td>-0.039223</td>\n",
       "      <td>-0.465210</td>\n",
       "      <td>-0.353977</td>\n",
       "      <td>-0.304257</td>\n",
       "      <td>-0.240708</td>\n",
       "      <td>-0.318797</td>\n",
       "      <td>-0.352968</td>\n",
       "      <td>...</td>\n",
       "      <td>-0.323019</td>\n",
       "      <td>-0.205212</td>\n",
       "      <td>-0.079531</td>\n",
       "      <td>-0.118688</td>\n",
       "      <td>-0.151911</td>\n",
       "      <td>-0.230681</td>\n",
       "      <td>-0.081172</td>\n",
       "      <td>-0.164107</td>\n",
       "      <td>-0.277435</td>\n",
       "      <td>0.000000</td>\n",
       "    </tr>\n",
       "    <tr>\n",
       "      <th>75%</th>\n",
       "      <td>-0.351864</td>\n",
       "      <td>-0.318036</td>\n",
       "      <td>0.326735</td>\n",
       "      <td>-0.039223</td>\n",
       "      <td>0.107252</td>\n",
       "      <td>-0.353977</td>\n",
       "      <td>-0.304257</td>\n",
       "      <td>-0.240708</td>\n",
       "      <td>-0.318797</td>\n",
       "      <td>-0.080193</td>\n",
       "      <td>...</td>\n",
       "      <td>-0.018022</td>\n",
       "      <td>-0.205212</td>\n",
       "      <td>-0.079531</td>\n",
       "      <td>-0.118688</td>\n",
       "      <td>-0.151911</td>\n",
       "      <td>0.145162</td>\n",
       "      <td>-0.054961</td>\n",
       "      <td>-0.038632</td>\n",
       "      <td>-0.039427</td>\n",
       "      <td>1.000000</td>\n",
       "    </tr>\n",
       "    <tr>\n",
       "      <th>max</th>\n",
       "      <td>13.771711</td>\n",
       "      <td>11.065546</td>\n",
       "      <td>9.184940</td>\n",
       "      <td>40.442907</td>\n",
       "      <td>8.479498</td>\n",
       "      <td>11.570173</td>\n",
       "      <td>6.461416</td>\n",
       "      <td>25.215295</td>\n",
       "      <td>18.826505</td>\n",
       "      <td>25.078049</td>\n",
       "      <td>...</td>\n",
       "      <td>18.446001</td>\n",
       "      <td>14.997385</td>\n",
       "      <td>13.943676</td>\n",
       "      <td>15.030734</td>\n",
       "      <td>15.146785</td>\n",
       "      <td>15.670854</td>\n",
       "      <td>28.750489</td>\n",
       "      <td>8.419193</td>\n",
       "      <td>12.437402</td>\n",
       "      <td>1.000000</td>\n",
       "    </tr>\n",
       "  </tbody>\n",
       "</table>\n",
       "<p>8 rows × 54 columns</p>\n",
       "</div>"
      ],
      "text/plain": [
       "       Freq_Of_Word_1  Freq_Of_Word_2  Freq_Of_Word_3  Freq_Of_Word_4  \\\n",
       "count      947.000000      947.000000      947.000000      947.000000   \n",
       "mean         0.023323        0.039056        0.020516        0.013038   \n",
       "std          1.104679        1.085628        1.026794        1.345090   \n",
       "min         -0.351864       -0.318036       -0.561952       -0.039223   \n",
       "25%         -0.351864       -0.318036       -0.561952       -0.039223   \n",
       "50%         -0.351864       -0.318036       -0.561952       -0.039223   \n",
       "75%         -0.351864       -0.318036        0.326735       -0.039223   \n",
       "max         13.771711       11.065546        9.184940       40.442907   \n",
       "\n",
       "       Freq_Of_Word_5  Freq_Of_Word_6  Freq_Of_Word_7  Freq_Of_Word_8  \\\n",
       "count      947.000000      947.000000      947.000000      947.000000   \n",
       "mean        -0.018424        0.002831       -0.006407        0.008428   \n",
       "std          0.890268        0.970823        0.868676        1.136686   \n",
       "min         -0.465210       -0.353977       -0.304257       -0.240708   \n",
       "25%         -0.465210       -0.353977       -0.304257       -0.240708   \n",
       "50%         -0.465210       -0.353977       -0.304257       -0.240708   \n",
       "75%          0.107252       -0.353977       -0.304257       -0.240708   \n",
       "max          8.479498       11.570173        6.461416       25.215295   \n",
       "\n",
       "       Freq_Of_Word_9  Freq_Of_Word_10  ...  Freq_Of_Word_45  Freq_Of_Word_46  \\\n",
       "count      947.000000       947.000000  ...       947.000000       947.000000   \n",
       "mean         0.044759         0.005193  ...         0.059328        -0.005919   \n",
       "std          1.179691         1.129019  ...         1.169027         0.959135   \n",
       "min         -0.318797        -0.352968  ...        -0.323019        -0.205212   \n",
       "25%         -0.318797        -0.352968  ...        -0.323019        -0.205212   \n",
       "50%         -0.318797        -0.352968  ...        -0.323019        -0.205212   \n",
       "75%         -0.318797        -0.080193  ...        -0.018022        -0.205212   \n",
       "max         18.826505        25.078049  ...        18.446001        14.997385   \n",
       "\n",
       "       Freq_Of_Word_47  Freq_Of_Word_48  Freq_Of_Word_49  Freq_Of_Word_50  \\\n",
       "count       947.000000       947.000000       947.000000       947.000000   \n",
       "mean         -0.031999        -0.001397         0.033669         0.013292   \n",
       "std           0.643179         0.821608         1.146482         0.860000   \n",
       "min          -0.079531        -0.118688        -0.151911        -0.453742   \n",
       "25%          -0.079531        -0.118688        -0.151911        -0.453742   \n",
       "50%          -0.079531        -0.118688        -0.151911        -0.230681   \n",
       "75%          -0.079531        -0.118688        -0.151911         0.145162   \n",
       "max          13.943676        15.030734        15.146785        15.670854   \n",
       "\n",
       "       TotalEmojiCharacters  LengthOFFirstParagraph  StylizedLetters  \\\n",
       "count            947.000000              947.000000       947.000000   \n",
       "mean              -0.013279               -0.021817         0.018881   \n",
       "std                0.958807                0.513887         0.997459   \n",
       "min               -0.107383               -0.219003        -0.427682   \n",
       "25%               -0.107383               -0.195476        -0.374323   \n",
       "50%               -0.081172               -0.164107        -0.277435   \n",
       "75%               -0.054961               -0.038632        -0.039427   \n",
       "max               28.750489                8.419193        12.437402   \n",
       "\n",
       "       IsGoodNews  \n",
       "count  947.000000  \n",
       "mean     0.388596  \n",
       "std      0.487689  \n",
       "min      0.000000  \n",
       "25%      0.000000  \n",
       "50%      0.000000  \n",
       "75%      1.000000  \n",
       "max      1.000000  \n",
       "\n",
       "[8 rows x 54 columns]"
      ]
     },
     "execution_count": 24,
     "metadata": {},
     "output_type": "execute_result"
    }
   ],
   "source": [
    "train.describe()"
   ]
  },
  {
   "cell_type": "code",
   "execution_count": 25,
   "metadata": {},
   "outputs": [
    {
     "data": {
      "text/plain": [
       "-0.079531    365\n",
       " 0.266721      1\n",
       " 0.439847      1\n",
       " 1.478603      1\n",
       "Name: Freq_Of_Word_47, dtype: int64"
      ]
     },
     "execution_count": 25,
     "metadata": {},
     "output_type": "execute_result"
    }
   ],
   "source": [
    "train.loc[train.IsGoodNews==1,'Freq_Of_Word_47'].value_counts()"
   ]
  },
  {
   "cell_type": "markdown",
   "metadata": {},
   "source": [
    "# Data split"
   ]
  },
  {
   "cell_type": "code",
   "execution_count": 26,
   "metadata": {},
   "outputs": [],
   "source": [
    "feature=train.iloc[:,:-1]\n",
    "label=train.copy().pop('IsGoodNews')"
   ]
  },
  {
   "cell_type": "markdown",
   "metadata": {},
   "source": [
    "# UPsampling"
   ]
  },
  {
   "cell_type": "markdown",
   "metadata": {},
   "source": [
    "from imblearn.over_sampling import SMOTE\n",
    "feature,label=SMOTE(sampling_strategy='minority',random_state=88,k_neighbors=5).fit_sample(feature,label)"
   ]
  },
  {
   "cell_type": "markdown",
   "metadata": {},
   "source": [
    "# Feature generation"
   ]
  },
  {
   "cell_type": "code",
   "execution_count": 27,
   "metadata": {},
   "outputs": [
    {
     "data": {
      "text/plain": [
       "['Freq_Of_Word_4',\n",
       " 'Freq_Of_Word_22',\n",
       " 'Freq_Of_Word_32',\n",
       " 'Freq_Of_Word_34',\n",
       " 'Freq_Of_Word_38',\n",
       " 'Freq_Of_Word_41',\n",
       " 'Freq_Of_Word_47',\n",
       " 'Freq_Of_Word_48',\n",
       " 'TotalEmojiCharacters']"
      ]
     },
     "execution_count": 27,
     "metadata": {},
     "output_type": "execute_result"
    }
   ],
   "source": [
    "# word which are rarely present selected for aggregation.\n",
    "cat_features=[]\n",
    "for col in feature.columns:\n",
    "    if feature[col].map(str).describe(exclude='number')['unique']<=40:\n",
    "        cat_features.append(col)\n",
    "cat_features        "
   ]
  },
  {
   "cell_type": "code",
   "execution_count": 28,
   "metadata": {},
   "outputs": [],
   "source": [
    "# NEW FEATURES BY AGGREGATION.\n",
    "from itertools import combinations\n",
    "new=pd.DataFrame(index=feature.index)\n",
    "for col1,col2 in combinations(cat_features,2):\n",
    "    new[col1+col2]=feature[col1].map(str)+feature[col2].map(str)\n",
    "    \n",
    "for col1,col2 in combinations(feature.columns,2):\n",
    "    new[col1+'3'+col2]=(feature[col1]+feature[col2])**3  \n",
    "    \n",
    "for col1,col2,col3 in combinations(cat_features,3):\n",
    "    new[col1+col2+col3]=feature[col1].map(str)+feature[col2].map(str)+feature[col3].map(str)"
   ]
  },
  {
   "cell_type": "code",
   "execution_count": 29,
   "metadata": {},
   "outputs": [
    {
     "data": {
      "text/plain": [
       "(947, 1551)"
      ]
     },
     "execution_count": 29,
     "metadata": {},
     "output_type": "execute_result"
    }
   ],
   "source": [
    "feature=feature.join(new)\n",
    "feature.shape"
   ]
  },
  {
   "cell_type": "code",
   "execution_count": 30,
   "metadata": {},
   "outputs": [],
   "source": [
    "cat_features_=feature.describe(exclude='number').columns"
   ]
  },
  {
   "cell_type": "markdown",
   "metadata": {},
   "source": [
    "# Count Encoding"
   ]
  },
  {
   "cell_type": "code",
   "execution_count": 31,
   "metadata": {},
   "outputs": [
    {
     "name": "stderr",
     "output_type": "stream",
     "text": [
      "C:\\Users\\pankaj\\Anaconda3\\lib\\site-packages\\category_encoders\\count.py:255: FutureWarning: The pandas.np module is deprecated and will be removed from pandas in a future version. Import numpy directly instead\n",
      "  X.loc[:, self.cols] = X.fillna(value=pd.np.nan)\n"
     ]
    }
   ],
   "source": [
    "#feature_.drop('label',axis=1,inplace=True)\n",
    "from category_encoders import TargetEncoder,CatBoostEncoder,CountEncoder\n",
    "te=CountEncoder()\n",
    "te.fit(feature[cat_features_],label)\n",
    "feature=feature.join(te.transform(feature[cat_features_]).add_suffix('_t'))"
   ]
  },
  {
   "cell_type": "markdown",
   "metadata": {},
   "source": [
    "# Test preprocessing."
   ]
  },
  {
   "cell_type": "code",
   "execution_count": 32,
   "metadata": {},
   "outputs": [],
   "source": [
    "test=pd.read_csv(r'D:\\Downloads\\MessagePolarity_ParticipantsData\\MessagePolarity_ParticipantsData\\test.csv')\n",
    "\n",
    "from itertools import combinations\n",
    "new=pd.DataFrame(index=test.index)\n",
    "for col1,col2 in combinations(cat_features,2):\n",
    "    new[col1+col2]=test[col1].map(str)+test[col2].map(str)\n",
    "\n",
    "for col1,col2 in combinations(test.columns,2):\n",
    "    new[col1+'3'+col2]=(test[col1]+test[col2])**3 \n",
    "    \n",
    "    \n",
    "for col1,col2,col3 in combinations(cat_features,3):\n",
    "    new[col1+col2+col3]=test[col1].map(str)+test[col2].map(str)+test[col3].map(str)  \n",
    "test=test.join(new)    "
   ]
  },
  {
   "cell_type": "code",
   "execution_count": 33,
   "metadata": {},
   "outputs": [],
   "source": [
    "test=test.join(te.transform(test[cat_features_]).add_suffix('_t'))"
   ]
  },
  {
   "cell_type": "code",
   "execution_count": 34,
   "metadata": {},
   "outputs": [],
   "source": [
    "# DROPED ALL AGGREGATED ATTRIBUTES EXCEPT ENCODED ONE.\n",
    "feature.drop(cat_features_,axis=1,inplace=True)"
   ]
  },
  {
   "cell_type": "markdown",
   "metadata": {},
   "source": [
    "# Baseline model."
   ]
  },
  {
   "cell_type": "code",
   "execution_count": 44,
   "metadata": {},
   "outputs": [
    {
     "data": {
      "text/plain": [
       "0.903163626749784"
      ]
     },
     "execution_count": 44,
     "metadata": {},
     "output_type": "execute_result"
    }
   ],
   "source": [
    "from sklearn.model_selection import StratifiedKFold\n",
    "lgb=LGBMClassifier()\n",
    "score=[]\n",
    "for train_ind,test_ind in StratifiedKFold(n_splits=10,shuffle=True,random_state=8).split(feature,label):\n",
    "    X_train,y_train=feature.loc[train_ind],label.loc[train_ind]\n",
    "    X_test,y_test=feature.loc[test_ind],label.loc[test_ind]\n",
    "    lgb.fit(X_train,y_train)\n",
    "    y_pred_prob=lgb.predict_proba(X_test)[:,1]\n",
    "    y_pred=[1 if val>=.4 else 0 for val in y_pred_prob]\n",
    "    score.append(f1_score(y_test,y_pred))\n",
    "\n",
    "np.array(score).mean()"
   ]
  },
  {
   "cell_type": "code",
   "execution_count": 45,
   "metadata": {},
   "outputs": [
    {
     "data": {
      "text/plain": [
       "[0.8947368421052632,\n",
       " 0.9428571428571428,\n",
       " 0.9444444444444445,\n",
       " 0.8461538461538461,\n",
       " 0.9315068493150684,\n",
       " 0.9066666666666667,\n",
       " 0.9589041095890412,\n",
       " 0.888888888888889,\n",
       " 0.8108108108108109,\n",
       " 0.9066666666666667]"
      ]
     },
     "execution_count": 45,
     "metadata": {},
     "output_type": "execute_result"
    }
   ],
   "source": [
    "score"
   ]
  },
  {
   "cell_type": "markdown",
   "metadata": {},
   "source": [
    "# Feature selection"
   ]
  },
  {
   "cell_type": "code",
   "execution_count": 39,
   "metadata": {},
   "outputs": [
    {
     "data": {
      "text/plain": [
       "Index(['Freq_Of_Word_33Freq_Of_Word_19', 'Freq_Of_Word_33Freq_Of_Word_50',\n",
       "       'Freq_Of_Word_53Freq_Of_Word_9', 'Freq_Of_Word_53Freq_Of_Word_16',\n",
       "       'Freq_Of_Word_53Freq_Of_Word_50', 'Freq_Of_Word_63StylizedLetters',\n",
       "       'Freq_Of_Word_73Freq_Of_Word_19', 'Freq_Of_Word_73Freq_Of_Word_21',\n",
       "       'Freq_Of_Word_73LengthOFFirstParagraph',\n",
       "       'Freq_Of_Word_73StylizedLetters', 'Freq_Of_Word_83StylizedLetters',\n",
       "       'Freq_Of_Word_103Freq_Of_Word_14', 'Freq_Of_Word_123Freq_Of_Word_17',\n",
       "       'Freq_Of_Word_123Freq_Of_Word_19', 'Freq_Of_Word_123Freq_Of_Word_37',\n",
       "       'Freq_Of_Word_123Freq_Of_Word_45',\n",
       "       'Freq_Of_Word_163LengthOFFirstParagraph',\n",
       "       'Freq_Of_Word_163StylizedLetters',\n",
       "       'Freq_Of_Word_183LengthOFFirstParagraph',\n",
       "       'Freq_Of_Word_183StylizedLetters', 'Freq_Of_Word_193Freq_Of_Word_21',\n",
       "       'Freq_Of_Word_193Freq_Of_Word_44', 'Freq_Of_Word_193Freq_Of_Word_50',\n",
       "       'Freq_Of_Word_213Freq_Of_Word_50',\n",
       "       'Freq_Of_Word_213LengthOFFirstParagraph',\n",
       "       'Freq_Of_Word_213StylizedLetters',\n",
       "       'Freq_Of_Word_243TotalEmojiCharacters',\n",
       "       'Freq_Of_Word_243StylizedLetters', 'Freq_Of_Word_253Freq_Of_Word_27',\n",
       "       'Freq_Of_Word_253Freq_Of_Word_45', 'Freq_Of_Word_253Freq_Of_Word_46',\n",
       "       'Freq_Of_Word_273Freq_Of_Word_42', 'Freq_Of_Word_373Freq_Of_Word_50',\n",
       "       'Freq_Of_Word_453Freq_Of_Word_49',\n",
       "       'Freq_Of_Word_453LengthOFFirstParagraph',\n",
       "       'Freq_Of_Word_463StylizedLetters',\n",
       "       'Freq_Of_Word_503LengthOFFirstParagraph',\n",
       "       'TotalEmojiCharacters3LengthOFFirstParagraph',\n",
       "       'TotalEmojiCharacters3StylizedLetters',\n",
       "       'LengthOFFirstParagraph3StylizedLetters'],\n",
       "      dtype='object')"
      ]
     },
     "execution_count": 39,
     "metadata": {},
     "output_type": "execute_result"
    }
   ],
   "source": [
    "from sklearn.feature_selection import RFE\n",
    "rfe=RFE(estimator=lgb,n_features_to_select=100,step=50).fit(feature,label)\n",
    "selected_col1=feature.columns[rfe.support_]\n",
    "rfe=RFE(estimator=lgb,n_features_to_select=40,step=5).fit(feature[selected_col1],label)\n",
    "selected_col=feature[selected_col1].columns[rfe.support_]\n",
    "selected_col"
   ]
  },
  {
   "cell_type": "markdown",
   "metadata": {},
   "source": [
    "# Validation on selected attributes"
   ]
  },
  {
   "cell_type": "code",
   "execution_count": 46,
   "metadata": {},
   "outputs": [
    {
     "data": {
      "text/plain": [
       "0.903163626749784"
      ]
     },
     "execution_count": 46,
     "metadata": {},
     "output_type": "execute_result"
    }
   ],
   "source": [
    "lgb=LGBMClassifier()\n",
    "score=[]\n",
    "for train_ind,test_ind in StratifiedKFold(n_splits=10,shuffle=True,random_state=8).split(feature[selected_col],label):\n",
    "    X_train,y_train=feature[selected_col].loc[train_ind],label.loc[train_ind]\n",
    "    X_test,y_test=feature[selected_col].loc[test_ind],label.loc[test_ind]\n",
    "    lgb.fit(X_train,y_train)\n",
    "    y_pred_prob=lgb.predict_proba(X_test)[:,1]\n",
    "    y_pred=[1 if val>=.4 else 0 for val in y_pred_prob]\n",
    "    score.append(f1_score(y_test,y_pred))\n",
    "\n",
    "np.array(score).mean()"
   ]
  },
  {
   "cell_type": "markdown",
   "metadata": {},
   "source": [
    "# Tunning"
   ]
  },
  {
   "cell_type": "code",
   "execution_count": 40,
   "metadata": {},
   "outputs": [],
   "source": [
    "feature=feature[selected_col]"
   ]
  },
  {
   "cell_type": "code",
   "execution_count": 41,
   "metadata": {},
   "outputs": [],
   "source": [
    "pram={'num_leaves':(15,20,25,30),'max_depth':(10,15),'n_estimators':(100,200),'subsample_for_bin':(500,1000),'subsample':(.8,.6)}\n",
    "gs=GridSearchCV(estimator=lgb,param_grid=pram,cv=3,n_jobs=-1).fit(feature,label)"
   ]
  },
  {
   "cell_type": "code",
   "execution_count": 42,
   "metadata": {},
   "outputs": [
    {
     "data": {
      "text/plain": [
       "{'max_depth': 10,\n",
       " 'n_estimators': 100,\n",
       " 'num_leaves': 25,\n",
       " 'subsample': 0.8,\n",
       " 'subsample_for_bin': 500}"
      ]
     },
     "execution_count": 42,
     "metadata": {},
     "output_type": "execute_result"
    }
   ],
   "source": [
    "gs.best_params_"
   ]
  },
  {
   "cell_type": "markdown",
   "metadata": {},
   "source": [
    "# Final model"
   ]
  },
  {
   "cell_type": "code",
   "execution_count": 48,
   "metadata": {},
   "outputs": [
    {
     "data": {
      "text/plain": [
       "0.9111835504889619"
      ]
     },
     "execution_count": 48,
     "metadata": {},
     "output_type": "execute_result"
    }
   ],
   "source": [
    "lgb=LGBMClassifier(max_depth=10,n_estimators=100,num_leaves=25,subsample=.8,subsample_for_bin=500,colsample_bytree=.6)\n",
    "score=[]\n",
    "for train_ind,test_ind in StratifiedKFold(n_splits=10,shuffle=True,random_state=8).split(feature,label):\n",
    "    X_train,y_train=feature.loc[train_ind],label.loc[train_ind]\n",
    "    X_test,y_test=feature.loc[test_ind],label.loc[test_ind]\n",
    "    lgb.fit(X_train,y_train)\n",
    "    y_pred_prob=lgb.predict_proba(X_test)[:,1]\n",
    "    y_pred=[1 if val>=.4 else 0 for val in y_pred_prob]\n",
    "    score.append(f1_score(y_test,y_pred))\n",
    "\n",
    "np.array(score).mean()"
   ]
  },
  {
   "cell_type": "code",
   "execution_count": 53,
   "metadata": {
    "scrolled": true
   },
   "outputs": [
    {
     "data": {
      "text/plain": [
       "<matplotlib.axes._subplots.AxesSubplot at 0x2642785bfd0>"
      ]
     },
     "execution_count": 53,
     "metadata": {},
     "output_type": "execute_result"
    },
    {
     "data": {
      "image/png": "[encoded data removed]",
      "text/plain": [
       "<Figure size 360x1080 with 1 Axes>"
      ]
     },
     "metadata": {
      "needs_background": "light"
     },
     "output_type": "display_data"
    }
   ],
   "source": [
    "plt.figure(figsize=(5,15))\n",
    "sns.barplot(y=X_train.columns,x=lgb.feature_importances_)"
   ]
  },
  {
   "cell_type": "code",
   "execution_count": 49,
   "metadata": {},
   "outputs": [
    {
     "data": {
      "text/plain": [
       "LGBMClassifier(boosting_type='gbdt', class_weight=None, colsample_bytree=0.6,\n",
       "               importance_type='split', learning_rate=0.1, max_depth=10,\n",
       "               min_child_samples=20, min_child_weight=0.001, min_split_gain=0.0,\n",
       "               n_estimators=100, n_jobs=-1, num_leaves=25, objective=None,\n",
       "               random_state=None, reg_alpha=0.0, reg_lambda=0.0, silent=True,\n",
       "               subsample=0.8, subsample_for_bin=500, subsample_freq=0)"
      ]
     },
     "execution_count": 49,
     "metadata": {},
     "output_type": "execute_result"
    }
   ],
   "source": [
    "lgb.fit(feature[selected_col],label)"
   ]
  },
  {
   "cell_type": "code",
   "execution_count": 50,
   "metadata": {},
   "outputs": [],
   "source": [
    "test.drop(cat_features_,axis=1,inplace=True)"
   ]
  },
  {
   "cell_type": "markdown",
   "metadata": {},
   "source": [
    "### Final prediction"
   ]
  },
  {
   "cell_type": "code",
   "execution_count": 51,
   "metadata": {},
   "outputs": [],
   "source": [
    "y_pred_prob=lgb.predict_proba(test[selected_col])[:,1]\n",
    "y_pred=[1 if val>=.4 else 0 for val in y_pred_prob]\n",
    "pd.Series(y_pred,name='IsGoodNews').to_excel(r'C:\\Users\\pankaj\\Desktop\\polarity.xlsx',index=False)"
   ]
  },
  {
   "cell_type": "code",
   "execution_count": 52,
   "metadata": {},
   "outputs": [
    {
     "data": {
      "text/plain": [
       "0    327\n",
       "1    200\n",
       "dtype: int64"
      ]
     },
     "execution_count": 52,
     "metadata": {},
     "output_type": "execute_result"
    }
   ],
   "source": [
    "pd.Series(y_pred).value_counts()"
   ]
  }
 ],
 "metadata": {
  "kernelspec": {
   "display_name": "Python 3",
   "language": "python",
   "name": "python3"
  },
  "language_info": {
   "codemirror_mode": {
    "name": "ipython",
    "version": 3
   },
   "file_extension": ".py",
   "mimetype": "text/x-python",
   "name": "python",
   "nbconvert_exporter": "python",
   "pygments_lexer": "ipython3",
   "version": "3.7.3"
  }
 },
 "nbformat": 4,
 "nbformat_minor": 4
}
