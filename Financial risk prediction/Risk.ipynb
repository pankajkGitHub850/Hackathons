{
 "cells": [
  {
   "cell_type": "code",
   "execution_count": 1,
   "metadata": {},
   "outputs": [],
   "source": [
    "import numpy as np\n",
    "import pandas as pd\n",
    "import seaborn as sns\n",
    "import matplotlib.pyplot as plt\n",
    "from lightgbm import LGBMClassifier\n",
    "from xgboost import XGBClassifier\n",
    "from sklearn.metrics import f1_score,confusion_matrix,log_loss\n",
    "from sklearn.model_selection import train_test_split,StratifiedKFold\n",
    "from sklearn.neighbors import KNeighborsClassifier\n",
    "from sklearn.svm import SVC\n",
    "from sklearn.linear_model import LogisticRegression"
   ]
  },
  {
   "cell_type": "code",
   "execution_count": 41,
   "metadata": {},
   "outputs": [
    {
     "data": {
      "text/html": [
       "<div>\n",
       "<style scoped>\n",
       "    .dataframe tbody tr th:only-of-type {\n",
       "        vertical-align: middle;\n",
       "    }\n",
       "\n",
       "    .dataframe tbody tr th {\n",
       "        vertical-align: top;\n",
       "    }\n",
       "\n",
       "    .dataframe thead th {\n",
       "        text-align: right;\n",
       "    }\n",
       "</style>\n",
       "<table border=\"1\" class=\"dataframe\">\n",
       "  <thead>\n",
       "    <tr style=\"text-align: right;\">\n",
       "      <th></th>\n",
       "      <th>City</th>\n",
       "      <th>Location_Score</th>\n",
       "      <th>Internal_Audit_Score</th>\n",
       "      <th>External_Audit_Score</th>\n",
       "      <th>Fin_Score</th>\n",
       "      <th>Loss_score</th>\n",
       "      <th>Past_Results</th>\n",
       "      <th>IsUnderRisk</th>\n",
       "    </tr>\n",
       "  </thead>\n",
       "  <tbody>\n",
       "    <tr>\n",
       "      <th>0</th>\n",
       "      <td>2</td>\n",
       "      <td>8.032</td>\n",
       "      <td>14</td>\n",
       "      <td>8</td>\n",
       "      <td>3</td>\n",
       "      <td>6</td>\n",
       "      <td>0</td>\n",
       "      <td>1</td>\n",
       "    </tr>\n",
       "    <tr>\n",
       "      <th>1</th>\n",
       "      <td>31</td>\n",
       "      <td>77.730</td>\n",
       "      <td>8</td>\n",
       "      <td>3</td>\n",
       "      <td>3</td>\n",
       "      <td>8</td>\n",
       "      <td>1</td>\n",
       "      <td>0</td>\n",
       "    </tr>\n",
       "    <tr>\n",
       "      <th>2</th>\n",
       "      <td>40</td>\n",
       "      <td>59.203</td>\n",
       "      <td>3</td>\n",
       "      <td>12</td>\n",
       "      <td>11</td>\n",
       "      <td>3</td>\n",
       "      <td>0</td>\n",
       "      <td>1</td>\n",
       "    </tr>\n",
       "    <tr>\n",
       "      <th>3</th>\n",
       "      <td>12</td>\n",
       "      <td>73.080</td>\n",
       "      <td>4</td>\n",
       "      <td>5</td>\n",
       "      <td>7</td>\n",
       "      <td>6</td>\n",
       "      <td>0</td>\n",
       "      <td>0</td>\n",
       "    </tr>\n",
       "    <tr>\n",
       "      <th>4</th>\n",
       "      <td>4</td>\n",
       "      <td>15.666</td>\n",
       "      <td>13</td>\n",
       "      <td>15</td>\n",
       "      <td>6</td>\n",
       "      <td>7</td>\n",
       "      <td>2</td>\n",
       "      <td>1</td>\n",
       "    </tr>\n",
       "  </tbody>\n",
       "</table>\n",
       "</div>"
      ],
      "text/plain": [
       "   City  Location_Score  Internal_Audit_Score  External_Audit_Score  \\\n",
       "0     2           8.032                    14                     8   \n",
       "1    31          77.730                     8                     3   \n",
       "2    40          59.203                     3                    12   \n",
       "3    12          73.080                     4                     5   \n",
       "4     4          15.666                    13                    15   \n",
       "\n",
       "   Fin_Score  Loss_score  Past_Results  IsUnderRisk  \n",
       "0          3           6             0            1  \n",
       "1          3           8             1            0  \n",
       "2         11           3             0            1  \n",
       "3          7           6             0            0  \n",
       "4          6           7             2            1  "
      ]
     },
     "execution_count": 41,
     "metadata": {},
     "output_type": "execute_result"
    }
   ],
   "source": [
    "train=pd.read_csv(r'D:\\Downloads\\Financial_Risk_Participants_Data\\Financial_Risk_Participants_Data\\train.csv')\n",
    "test=pd.read_csv(r'D:\\Downloads\\Financial_Risk_Participants_Data\\Financial_Risk_Participants_Data\\test.csv')\n",
    "train.head()"
   ]
  },
  {
   "cell_type": "code",
   "execution_count": 42,
   "metadata": {},
   "outputs": [],
   "source": [
    "test.drop('City',axis=1,inplace=True)"
   ]
  },
  {
   "cell_type": "code",
   "execution_count": 43,
   "metadata": {},
   "outputs": [
    {
     "data": {
      "text/plain": [
       "22.447    2\n",
       "11.969    2\n",
       "18.501    2\n",
       "72.523    1\n",
       "19.155    1\n",
       "         ..\n",
       "16.925    1\n",
       "67.522    1\n",
       "18.282    1\n",
       "11.058    1\n",
       "8.875     1\n",
       "Name: Location_Score, Length: 540, dtype: int64"
      ]
     },
     "execution_count": 43,
     "metadata": {},
     "output_type": "execute_result"
    }
   ],
   "source": [
    "train.Location_Score.value_counts()"
   ]
  },
  {
   "cell_type": "code",
   "execution_count": 44,
   "metadata": {},
   "outputs": [
    {
     "data": {
      "text/plain": [
       "1    340\n",
       "0    203\n",
       "Name: IsUnderRisk, dtype: int64"
      ]
     },
     "execution_count": 44,
     "metadata": {},
     "output_type": "execute_result"
    }
   ],
   "source": [
    "train.IsUnderRisk.value_counts()"
   ]
  },
  {
   "cell_type": "code",
   "execution_count": 65,
   "metadata": {},
   "outputs": [],
   "source": [
    "# training set\n",
    "feature,label=train.copy().drop(['City','IsUnderRisk'],axis=1),train.IsUnderRisk"
   ]
  },
  {
   "cell_type": "code",
   "execution_count": 66,
   "metadata": {},
   "outputs": [],
   "source": [
    "# Function for validation.\n",
    "def validate(estimator,feature,label,fold):\n",
    "    score=[]\n",
    "    for trainind,testind in StratifiedKFold(n_splits=fold,shuffle=True,random_state=89).split(feature,label):\n",
    "        X_train,y_train=feature.iloc[trainind],label[trainind]\n",
    "        X_test,y_test=feature.iloc[testind],label[testind]\n",
    "        model=estimator.fit(X_train,y_train)\n",
    "        score.append(log_loss(y_test,model.predict_proba(X_test)))\n",
    "    return score"
   ]
  },
  {
   "cell_type": "code",
   "execution_count": 67,
   "metadata": {},
   "outputs": [
    {
     "data": {
      "text/html": [
       "<div>\n",
       "<style scoped>\n",
       "    .dataframe tbody tr th:only-of-type {\n",
       "        vertical-align: middle;\n",
       "    }\n",
       "\n",
       "    .dataframe tbody tr th {\n",
       "        vertical-align: top;\n",
       "    }\n",
       "\n",
       "    .dataframe thead th {\n",
       "        text-align: right;\n",
       "    }\n",
       "</style>\n",
       "<table border=\"1\" class=\"dataframe\">\n",
       "  <thead>\n",
       "    <tr style=\"text-align: right;\">\n",
       "      <th></th>\n",
       "      <th>0</th>\n",
       "      <th>1</th>\n",
       "      <th>2</th>\n",
       "      <th>3</th>\n",
       "      <th>4</th>\n",
       "      <th>mean</th>\n",
       "    </tr>\n",
       "  </thead>\n",
       "  <tbody>\n",
       "    <tr>\n",
       "      <th>xgb</th>\n",
       "      <td>0.365591</td>\n",
       "      <td>0.382429</td>\n",
       "      <td>0.226521</td>\n",
       "      <td>0.264637</td>\n",
       "      <td>0.378853</td>\n",
       "      <td>0.323606</td>\n",
       "    </tr>\n",
       "    <tr>\n",
       "      <th>knn</th>\n",
       "      <td>2.216257</td>\n",
       "      <td>2.229411</td>\n",
       "      <td>0.580452</td>\n",
       "      <td>0.962996</td>\n",
       "      <td>1.659663</td>\n",
       "      <td>1.529756</td>\n",
       "    </tr>\n",
       "    <tr>\n",
       "      <th>svm</th>\n",
       "      <td>0.402566</td>\n",
       "      <td>0.407731</td>\n",
       "      <td>0.289877</td>\n",
       "      <td>0.325590</td>\n",
       "      <td>0.431728</td>\n",
       "      <td>0.371499</td>\n",
       "    </tr>\n",
       "    <tr>\n",
       "      <th>lr</th>\n",
       "      <td>0.376452</td>\n",
       "      <td>0.421582</td>\n",
       "      <td>0.278239</td>\n",
       "      <td>0.354706</td>\n",
       "      <td>0.419034</td>\n",
       "      <td>0.370003</td>\n",
       "    </tr>\n",
       "    <tr>\n",
       "      <th>lgbm</th>\n",
       "      <td>0.377149</td>\n",
       "      <td>0.418449</td>\n",
       "      <td>0.228929</td>\n",
       "      <td>0.276656</td>\n",
       "      <td>0.386632</td>\n",
       "      <td>0.337563</td>\n",
       "    </tr>\n",
       "  </tbody>\n",
       "</table>\n",
       "</div>"
      ],
      "text/plain": [
       "             0         1         2         3         4      mean\n",
       "xgb   0.365591  0.382429  0.226521  0.264637  0.378853  0.323606\n",
       "knn   2.216257  2.229411  0.580452  0.962996  1.659663  1.529756\n",
       "svm   0.402566  0.407731  0.289877  0.325590  0.431728  0.371499\n",
       "lr    0.376452  0.421582  0.278239  0.354706  0.419034  0.370003\n",
       "lgbm  0.377149  0.418449  0.228929  0.276656  0.386632  0.337563"
      ]
     },
     "execution_count": 67,
     "metadata": {},
     "output_type": "execute_result"
    }
   ],
   "source": [
    "# Score of some model.\n",
    "xgb=XGBClassifier(max_depth=3,n_estimators=100,colsample_bylevel=.6)\n",
    "knn=KNeighborsClassifier()\n",
    "svm=SVC(probability=True,C=5,degree=5)\n",
    "lr=LogisticRegression()\n",
    "lgbm=LGBMClassifier(subsample_for_bin=1000,min_child_samples=30,colsample_bytree=.6)\n",
    "scores=[]\n",
    "for model in [xgb,knn,svm,lr,lgbm]:\n",
    "    scores.append(validate(model,feature,label,5))\n",
    "df=pd.DataFrame(scores,index=['xgb','knn','svm','lr','lgbm'])  \n",
    "df['mean']=df.mean(axis=1)\n",
    "df"
   ]
  },
  {
   "cell_type": "code",
   "execution_count": 70,
   "metadata": {},
   "outputs": [
    {
     "data": {
      "text/plain": [
       "0.3235743806835332"
      ]
     },
     "execution_count": 70,
     "metadata": {},
     "output_type": "execute_result"
    }
   ],
   "source": [
    "# Tried combined lgbm and xgboost.\n",
    "score=[]\n",
    "for trainind,testind in StratifiedKFold(n_splits=5,shuffle=True,random_state=89).split(feature,label):\n",
    "    X_train,y_train=feature.iloc[trainind],label[trainind]\n",
    "    X_test,y_test=feature.iloc[testind],label[testind]\n",
    "    xgb.fit(X_train,y_train)\n",
    "    lgbm.fit(X_train,y_train)\n",
    "    pre1=lgbm.predict_proba(X_test)\n",
    "    pre2=xgb.predict_proba(X_test)\n",
    "    pred=0.2*pre1+.8*pre2\n",
    "    score.append(log_loss(y_test,pred))\n",
    "np.array(score).mean()"
   ]
  },
  {
   "cell_type": "code",
   "execution_count": 28,
   "metadata": {},
   "outputs": [],
   "source": [
    "# Stacking with xgb\n",
    "x,g,s=np.empty(0),np.empty(0),np.empty(0)\n",
    "xgb=XGBClassifier(max_depth=8)\n",
    "for trainind,testind in StratifiedKFold(n_splits=5,shuffle=True,random_state=89).split(feature,label):\n",
    "    X_train,y_train=feature.iloc[trainind],label[trainind]\n",
    "    X_test,y_test=feature.iloc[testind],label[testind]\n",
    "    xgb.fit(X_train,y_train)\n",
    "    lgbm.fit(X_train,y_train)\n",
    "    svm.fit(X_train,y_train)\n",
    "    x=np.append(x,xgb.predict_proba(X_test)[:,1])\n",
    "    g=np.append(g,lgbm.predict_proba(X_test)[:,1])\n",
    "    s=np.append(s,svm.predict_proba(X_test)[:,1])"
   ]
  },
  {
   "cell_type": "code",
   "execution_count": 32,
   "metadata": {},
   "outputs": [],
   "source": [
    "feature_=pd.DataFrame(feature.index)#feature.copy()\n",
    "feature_['xgb']=x\n",
    "feature_['lgbm']=g\n",
    "feature_['svm']=s"
   ]
  },
  {
   "cell_type": "code",
   "execution_count": 34,
   "metadata": {},
   "outputs": [],
   "source": [
    "test_=pd.DataFrame(test.index)#test.copy()\n",
    "for model,name in zip([xgb,lgbm,svm],['xgb','lgbm','svm']):\n",
    "    model.fit(feature,label)\n",
    "    test_[name]=model.predict_proba(test)[:,1]"
   ]
  },
  {
   "cell_type": "code",
   "execution_count": 24,
   "metadata": {},
   "outputs": [],
   "source": [
    "from sklearn.model_selection import GridSearchCV\n",
    "pram={'num_leaves':(20,30,40),'subsample_for_bin':(200,300,400,500),'min_child_samples':(5,10,15,20,30,50),'colsample_bytree':(.4,.5,.6,.7)}\n",
    "gs=GridSearchCV(estimator=lgbm,param_grid=pram,cv=3).fit(feature,label)"
   ]
  },
  {
   "cell_type": "code",
   "execution_count": 25,
   "metadata": {},
   "outputs": [
    {
     "data": {
      "text/plain": [
       "{'colsample_bytree': 0.5,\n",
       " 'min_child_samples': 50,\n",
       " 'num_leaves': 20,\n",
       " 'subsample_for_bin': 200}"
      ]
     },
     "execution_count": 25,
     "metadata": {},
     "output_type": "execute_result"
    }
   ],
   "source": [
    "gs.best_params_"
   ]
  },
  {
   "cell_type": "code",
   "execution_count": 15,
   "metadata": {},
   "outputs": [
    {
     "data": {
      "text/plain": [
       "([0.36576322941784273,\n",
       "  0.39325320226012006,\n",
       "  0.2248235274849233,\n",
       "  0.26785802282501714,\n",
       "  0.3772706661768417],\n",
       " 0.3154725100269307)"
      ]
     },
     "execution_count": 15,
     "metadata": {},
     "output_type": "execute_result"
    }
   ],
   "source": [
    "lgbm=LGBMClassifier(subsample_for_bin=200,min_child_samples=50,colsample_bytree=.5,num_leaves=20)\n",
    "score,np.array(validate(lgbm,feature,label,5)).mean()"
   ]
  },
  {
   "cell_type": "code",
   "execution_count": 177,
   "metadata": {},
   "outputs": [
    {
     "data": {
      "text/plain": [
       "<matplotlib.axes._subplots.AxesSubplot at 0x2426f1dca20>"
      ]
     },
     "execution_count": 177,
     "metadata": {},
     "output_type": "execute_result"
    },
    {
     "data": {
      "image/png": "[encoded data removed]",
      "text/plain": [
       "<Figure size 432x288 with 1 Axes>"
      ]
     },
     "metadata": {
      "needs_background": "light"
     },
     "output_type": "display_data"
    }
   ],
   "source": [
    "xgb=LGBMClassifier(subsample_for_bin=1000,min_child_samples=30,colsample_bytree=.6).fit(feature_,label)\n",
    "sns.barplot(y=feature_.columns,x=xgb.feature_importances_)"
   ]
  },
  {
   "cell_type": "code",
   "execution_count": null,
   "metadata": {},
   "outputs": [],
   "source": []
  },
  {
   "cell_type": "code",
   "execution_count": 72,
   "metadata": {},
   "outputs": [],
   "source": [
    "# Single model final prediction\n",
    "model=xgb\n",
    "model.fit(feature,label)\n",
    "y_pred=model.predict_proba(test)\n",
    "sub=pd.DataFrame(y_pred,columns=[0,1])\n",
    "sub.to_excel(r'C:\\Users\\pankaj\\Desktop\\risk\\xgbwoc.xlsx',index=False)"
   ]
  },
  {
   "cell_type": "code",
   "execution_count": 22,
   "metadata": {},
   "outputs": [],
   "source": [
    "# combined model Final training and prediction.\n",
    "model1=lgbm\n",
    "model2=xgb\n",
    "model1.fit(feature,label)\n",
    "model2.fit(feature,label)\n",
    "pre1=model1.predict_proba(test)\n",
    "pre2=model2.predict_proba(test)\n",
    "y_pred=.7*pre1+.3*pre2\n",
    "sub=pd.DataFrame(y_pred,columns=[0,1])\n",
    "sub.to_excel(r'C:\\Users\\pankaj\\Desktop\\risk\\combined(.7,.3).xlsx',index=False)\n"
   ]
  },
  {
   "cell_type": "code",
   "execution_count": 73,
   "metadata": {},
   "outputs": [
    {
     "data": {
      "text/plain": [
       "<matplotlib.axes._subplots.AxesSubplot at 0x2426be63d68>"
      ]
     },
     "execution_count": 73,
     "metadata": {},
     "output_type": "execute_result"
    },
    {
     "data": {
      "image/png": "[encoded data removed]",
      "text/plain": [
       "<Figure size 432x288 with 2 Axes>"
      ]
     },
     "metadata": {
      "needs_background": "light"
     },
     "output_type": "display_data"
    }
   ],
   "source": [
    "sns.heatmap(train.corr(),annot=True)"
   ]
  },
  {
   "cell_type": "code",
   "execution_count": 143,
   "metadata": {},
   "outputs": [
    {
     "data": {
      "text/plain": [
       "0.3211967378296424"
      ]
     },
     "execution_count": 143,
     "metadata": {},
     "output_type": "execute_result"
    }
   ],
   "source": [
    "np.array(score).mean()"
   ]
  },
  {
   "cell_type": "code",
   "execution_count": 150,
   "metadata": {},
   "outputs": [
    {
     "data": {
      "text/plain": [
       "array([2., 4., 5.])"
      ]
     },
     "execution_count": 150,
     "metadata": {},
     "output_type": "execute_result"
    }
   ],
   "source": [
    "a=np.empty(0)\n",
    "np.append(a,np.array((2,4,5)))"
   ]
  },
  {
   "cell_type": "code",
   "execution_count": null,
   "metadata": {},
   "outputs": [],
   "source": []
  },
  {
   "cell_type": "code",
   "execution_count": null,
   "metadata": {},
   "outputs": [],
   "source": []
  }
 ],
 "metadata": {
  "kernelspec": {
   "display_name": "Python 3",
   "language": "python",
   "name": "python3"
  },
  "language_info": {
   "codemirror_mode": {
    "name": "ipython",
    "version": 3
   },
   "file_extension": ".py",
   "mimetype": "text/x-python",
   "name": "python",
   "nbconvert_exporter": "python",
   "pygments_lexer": "ipython3",
   "version": "3.7.7"
  }
 },
 "nbformat": 4,
 "nbformat_minor": 4
}
