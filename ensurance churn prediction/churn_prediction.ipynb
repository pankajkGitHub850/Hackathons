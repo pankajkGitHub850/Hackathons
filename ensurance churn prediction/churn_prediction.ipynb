{
 "cells": [
  {
   "cell_type": "code",
   "execution_count": 2,
   "metadata": {},
   "outputs": [],
   "source": [
    "import numpy as np\n",
    "import pandas as pd\n",
    "import matplotlib.pyplot as plt\n",
    "import seaborn as sns\n",
    "import category_encoders\n",
    "import itertools\n",
    "from lightgbm import LGBMClassifier\n",
    "from sklearn.metrics import f1_score,confusion_matrix\n",
    "from sklearn.model_selection import train_test_split,GridSearchCV,cross_val_score\n",
    "from sklearn.utils import resample\n",
    "from sklearn.ensemble import RandomForestClassifier,VotingClassifier\n",
    "from sklearn.neighbors import KNeighborsClassifier\n",
    "from xgboost import XGBClassifier"
   ]
  },
  {
   "cell_type": "markdown",
   "metadata": {},
   "source": [
    "# Reading dataset"
   ]
  },
  {
   "cell_type": "code",
   "execution_count": 5,
   "metadata": {},
   "outputs": [],
   "source": [
    "train=pd.read_csv(r'D:\\Downloads\\Insurance_Churn_ParticipantsData\\Insurance_Churn_ParticipantsData\\Train.csv')\n",
    "test=pd.read_csv(r'D:\\Downloads\\Insurance_Churn_ParticipantsData\\Insurance_Churn_ParticipantsData\\Test.csv')"
   ]
  },
  {
   "cell_type": "markdown",
   "metadata": {},
   "source": [
    "# EDA"
   ]
  },
  {
   "cell_type": "code",
   "execution_count": 6,
   "metadata": {},
   "outputs": [
    {
     "data": {
      "text/html": [
       "<div>\n",
       "<style scoped>\n",
       "    .dataframe tbody tr th:only-of-type {\n",
       "        vertical-align: middle;\n",
       "    }\n",
       "\n",
       "    .dataframe tbody tr th {\n",
       "        vertical-align: top;\n",
       "    }\n",
       "\n",
       "    .dataframe thead th {\n",
       "        text-align: right;\n",
       "    }\n",
       "</style>\n",
       "<table border=\"1\" class=\"dataframe\">\n",
       "  <thead>\n",
       "    <tr style=\"text-align: right;\">\n",
       "      <th></th>\n",
       "      <th>feature_0</th>\n",
       "      <th>feature_1</th>\n",
       "      <th>feature_2</th>\n",
       "      <th>feature_3</th>\n",
       "      <th>feature_4</th>\n",
       "      <th>feature_5</th>\n",
       "      <th>feature_6</th>\n",
       "      <th>feature_7</th>\n",
       "      <th>feature_8</th>\n",
       "      <th>feature_9</th>\n",
       "      <th>feature_10</th>\n",
       "      <th>feature_11</th>\n",
       "      <th>feature_12</th>\n",
       "      <th>feature_13</th>\n",
       "      <th>feature_14</th>\n",
       "      <th>feature_15</th>\n",
       "      <th>labels</th>\n",
       "    </tr>\n",
       "  </thead>\n",
       "  <tbody>\n",
       "    <tr>\n",
       "      <th>0</th>\n",
       "      <td>-0.276515</td>\n",
       "      <td>-0.424429</td>\n",
       "      <td>1.344997</td>\n",
       "      <td>-0.012283</td>\n",
       "      <td>0.076230</td>\n",
       "      <td>1.076648</td>\n",
       "      <td>0.182198</td>\n",
       "      <td>3</td>\n",
       "      <td>0</td>\n",
       "      <td>1</td>\n",
       "      <td>0</td>\n",
       "      <td>0</td>\n",
       "      <td>0</td>\n",
       "      <td>0</td>\n",
       "      <td>10</td>\n",
       "      <td>2</td>\n",
       "      <td>1</td>\n",
       "    </tr>\n",
       "    <tr>\n",
       "      <th>1</th>\n",
       "      <td>0.853573</td>\n",
       "      <td>0.150991</td>\n",
       "      <td>0.503892</td>\n",
       "      <td>-0.979179</td>\n",
       "      <td>-0.569351</td>\n",
       "      <td>-0.411453</td>\n",
       "      <td>-0.251940</td>\n",
       "      <td>4</td>\n",
       "      <td>1</td>\n",
       "      <td>2</td>\n",
       "      <td>0</td>\n",
       "      <td>1</td>\n",
       "      <td>0</td>\n",
       "      <td>0</td>\n",
       "      <td>0</td>\n",
       "      <td>3</td>\n",
       "      <td>0</td>\n",
       "    </tr>\n",
       "    <tr>\n",
       "      <th>2</th>\n",
       "      <td>0.947747</td>\n",
       "      <td>-0.173832</td>\n",
       "      <td>1.825628</td>\n",
       "      <td>-0.703478</td>\n",
       "      <td>0.076230</td>\n",
       "      <td>-0.411453</td>\n",
       "      <td>-0.251940</td>\n",
       "      <td>6</td>\n",
       "      <td>1</td>\n",
       "      <td>2</td>\n",
       "      <td>0</td>\n",
       "      <td>0</td>\n",
       "      <td>0</td>\n",
       "      <td>0</td>\n",
       "      <td>5</td>\n",
       "      <td>3</td>\n",
       "      <td>0</td>\n",
       "    </tr>\n",
       "    <tr>\n",
       "      <th>3</th>\n",
       "      <td>0.853573</td>\n",
       "      <td>-0.381404</td>\n",
       "      <td>0.984523</td>\n",
       "      <td>-0.039464</td>\n",
       "      <td>-0.569351</td>\n",
       "      <td>-0.411453</td>\n",
       "      <td>-0.251940</td>\n",
       "      <td>4</td>\n",
       "      <td>0</td>\n",
       "      <td>2</td>\n",
       "      <td>0</td>\n",
       "      <td>1</td>\n",
       "      <td>0</td>\n",
       "      <td>0</td>\n",
       "      <td>5</td>\n",
       "      <td>3</td>\n",
       "      <td>0</td>\n",
       "    </tr>\n",
       "    <tr>\n",
       "      <th>4</th>\n",
       "      <td>1.324443</td>\n",
       "      <td>1.590527</td>\n",
       "      <td>-1.178318</td>\n",
       "      <td>-0.097711</td>\n",
       "      <td>-0.246560</td>\n",
       "      <td>-0.411453</td>\n",
       "      <td>-0.251940</td>\n",
       "      <td>0</td>\n",
       "      <td>1</td>\n",
       "      <td>1</td>\n",
       "      <td>0</td>\n",
       "      <td>0</td>\n",
       "      <td>0</td>\n",
       "      <td>0</td>\n",
       "      <td>8</td>\n",
       "      <td>3</td>\n",
       "      <td>0</td>\n",
       "    </tr>\n",
       "  </tbody>\n",
       "</table>\n",
       "</div>"
      ],
      "text/plain": [
       "   feature_0  feature_1  feature_2  feature_3  feature_4  feature_5  \\\n",
       "0  -0.276515  -0.424429   1.344997  -0.012283   0.076230   1.076648   \n",
       "1   0.853573   0.150991   0.503892  -0.979179  -0.569351  -0.411453   \n",
       "2   0.947747  -0.173832   1.825628  -0.703478   0.076230  -0.411453   \n",
       "3   0.853573  -0.381404   0.984523  -0.039464  -0.569351  -0.411453   \n",
       "4   1.324443   1.590527  -1.178318  -0.097711  -0.246560  -0.411453   \n",
       "\n",
       "   feature_6  feature_7  feature_8  feature_9  feature_10  feature_11  \\\n",
       "0   0.182198          3          0          1           0           0   \n",
       "1  -0.251940          4          1          2           0           1   \n",
       "2  -0.251940          6          1          2           0           0   \n",
       "3  -0.251940          4          0          2           0           1   \n",
       "4  -0.251940          0          1          1           0           0   \n",
       "\n",
       "   feature_12  feature_13  feature_14  feature_15  labels  \n",
       "0           0           0          10           2       1  \n",
       "1           0           0           0           3       0  \n",
       "2           0           0           5           3       0  \n",
       "3           0           0           5           3       0  \n",
       "4           0           0           8           3       0  "
      ]
     },
     "execution_count": 6,
     "metadata": {},
     "output_type": "execute_result"
    }
   ],
   "source": [
    "train.head()"
   ]
  },
  {
   "cell_type": "code",
   "execution_count": 7,
   "metadata": {},
   "outputs": [
    {
     "name": "stdout",
     "output_type": "stream",
     "text": [
      "<class 'pandas.core.frame.DataFrame'>\n",
      "RangeIndex: 33908 entries, 0 to 33907\n",
      "Data columns (total 17 columns):\n",
      " #   Column      Non-Null Count  Dtype  \n",
      "---  ------      --------------  -----  \n",
      " 0   feature_0   33908 non-null  float64\n",
      " 1   feature_1   33908 non-null  float64\n",
      " 2   feature_2   33908 non-null  float64\n",
      " 3   feature_3   33908 non-null  float64\n",
      " 4   feature_4   33908 non-null  float64\n",
      " 5   feature_5   33908 non-null  float64\n",
      " 6   feature_6   33908 non-null  float64\n",
      " 7   feature_7   33908 non-null  int64  \n",
      " 8   feature_8   33908 non-null  int64  \n",
      " 9   feature_9   33908 non-null  int64  \n",
      " 10  feature_10  33908 non-null  int64  \n",
      " 11  feature_11  33908 non-null  int64  \n",
      " 12  feature_12  33908 non-null  int64  \n",
      " 13  feature_13  33908 non-null  int64  \n",
      " 14  feature_14  33908 non-null  int64  \n",
      " 15  feature_15  33908 non-null  int64  \n",
      " 16  labels      33908 non-null  int64  \n",
      "dtypes: float64(7), int64(10)\n",
      "memory usage: 4.4 MB\n"
     ]
    }
   ],
   "source": [
    "train.info()"
   ]
  },
  {
   "cell_type": "markdown",
   "metadata": {},
   "source": [
    "# Altering dtype of some features(7-15)\n",
    "Might be these are categorical and pre-labelencoded.To generate some new feature from them i have again altered their dtype."
   ]
  },
  {
   "cell_type": "code",
   "execution_count": 8,
   "metadata": {},
   "outputs": [],
   "source": [
    "for col in train.columns:\n",
    "    if train[col].dtype=='int64':\n",
    "        train[col]=train[col].astype(str)"
   ]
  },
  {
   "cell_type": "code",
   "execution_count": 9,
   "metadata": {},
   "outputs": [
    {
     "data": {
      "text/html": [
       "<div>\n",
       "<style scoped>\n",
       "    .dataframe tbody tr th:only-of-type {\n",
       "        vertical-align: middle;\n",
       "    }\n",
       "\n",
       "    .dataframe tbody tr th {\n",
       "        vertical-align: top;\n",
       "    }\n",
       "\n",
       "    .dataframe thead th {\n",
       "        text-align: right;\n",
       "    }\n",
       "</style>\n",
       "<table border=\"1\" class=\"dataframe\">\n",
       "  <thead>\n",
       "    <tr style=\"text-align: right;\">\n",
       "      <th></th>\n",
       "      <th>feature_7</th>\n",
       "      <th>feature_8</th>\n",
       "      <th>feature_9</th>\n",
       "      <th>feature_10</th>\n",
       "      <th>feature_11</th>\n",
       "      <th>feature_12</th>\n",
       "      <th>feature_13</th>\n",
       "      <th>feature_14</th>\n",
       "      <th>feature_15</th>\n",
       "      <th>labels</th>\n",
       "    </tr>\n",
       "  </thead>\n",
       "  <tbody>\n",
       "    <tr>\n",
       "      <th>count</th>\n",
       "      <td>33908</td>\n",
       "      <td>33908</td>\n",
       "      <td>33908</td>\n",
       "      <td>33908</td>\n",
       "      <td>33908</td>\n",
       "      <td>33908</td>\n",
       "      <td>33908</td>\n",
       "      <td>33908</td>\n",
       "      <td>33908</td>\n",
       "      <td>33908</td>\n",
       "    </tr>\n",
       "    <tr>\n",
       "      <th>unique</th>\n",
       "      <td>12</td>\n",
       "      <td>3</td>\n",
       "      <td>4</td>\n",
       "      <td>2</td>\n",
       "      <td>2</td>\n",
       "      <td>2</td>\n",
       "      <td>3</td>\n",
       "      <td>12</td>\n",
       "      <td>4</td>\n",
       "      <td>2</td>\n",
       "    </tr>\n",
       "    <tr>\n",
       "      <th>top</th>\n",
       "      <td>1</td>\n",
       "      <td>1</td>\n",
       "      <td>1</td>\n",
       "      <td>0</td>\n",
       "      <td>1</td>\n",
       "      <td>0</td>\n",
       "      <td>0</td>\n",
       "      <td>8</td>\n",
       "      <td>3</td>\n",
       "      <td>0</td>\n",
       "    </tr>\n",
       "    <tr>\n",
       "      <th>freq</th>\n",
       "      <td>7286</td>\n",
       "      <td>20434</td>\n",
       "      <td>17380</td>\n",
       "      <td>33293</td>\n",
       "      <td>18836</td>\n",
       "      <td>28494</td>\n",
       "      <td>21978</td>\n",
       "      <td>10273</td>\n",
       "      <td>27756</td>\n",
       "      <td>29941</td>\n",
       "    </tr>\n",
       "  </tbody>\n",
       "</table>\n",
       "</div>"
      ],
      "text/plain": [
       "       feature_7 feature_8 feature_9 feature_10 feature_11 feature_12  \\\n",
       "count      33908     33908     33908      33908      33908      33908   \n",
       "unique        12         3         4          2          2          2   \n",
       "top            1         1         1          0          1          0   \n",
       "freq        7286     20434     17380      33293      18836      28494   \n",
       "\n",
       "       feature_13 feature_14 feature_15 labels  \n",
       "count       33908      33908      33908  33908  \n",
       "unique          3         12          4      2  \n",
       "top             0          8          3      0  \n",
       "freq        21978      10273      27756  29941  "
      ]
     },
     "execution_count": 9,
     "metadata": {},
     "output_type": "execute_result"
    }
   ],
   "source": [
    "train.describe(exclude='number')"
   ]
  },
  {
   "cell_type": "code",
   "execution_count": 10,
   "metadata": {},
   "outputs": [
    {
     "data": {
      "text/plain": [
       "<matplotlib.axes._subplots.AxesSubplot at 0x246c6029be0>"
      ]
     },
     "execution_count": 10,
     "metadata": {},
     "output_type": "execute_result"
    },
    {
     "data": {
      "image/png": "[encoded data removed]",
      "text/plain": [
       "<Figure size 432x288 with 1 Axes>"
      ]
     },
     "metadata": {
      "needs_background": "light"
     },
     "output_type": "display_data"
    }
   ],
   "source": [
    "sns.countplot(x='feature_9',data=train,hue='labels')# do target encoding"
   ]
  },
  {
   "cell_type": "markdown",
   "metadata": {},
   "source": [
    "train['sum']=train.feature_0+train.feature_1+train.feature_2+train.feature_3+train.feature_4+train.feature_5+train.feature_6\n",
    "train['sum']=train['sum']**-1\n",
    "sns.distplot(train.loc[train.labels=='1','sum'])\n",
    "sns.distplot(train.loc[train.labels=='0','sum'])"
   ]
  },
  {
   "cell_type": "code",
   "execution_count": 11,
   "metadata": {},
   "outputs": [
    {
     "data": {
      "text/plain": [
       "0    29941\n",
       "1     3967\n",
       "Name: labels, dtype: int64"
      ]
     },
     "execution_count": 11,
     "metadata": {},
     "output_type": "execute_result"
    }
   ],
   "source": [
    "train.labels.value_counts()"
   ]
  },
  {
   "cell_type": "markdown",
   "metadata": {},
   "source": [
    "### Extracting feature and label"
   ]
  },
  {
   "cell_type": "code",
   "execution_count": 12,
   "metadata": {},
   "outputs": [],
   "source": [
    "label=train.copy().pop('labels')\n",
    "feature=train.copy().iloc[:,:-1]"
   ]
  },
  {
   "cell_type": "code",
   "execution_count": 13,
   "metadata": {},
   "outputs": [
    {
     "data": {
      "text/plain": [
       "Index(['feature_0', 'feature_1', 'feature_2', 'feature_3', 'feature_4',\n",
       "       'feature_5', 'feature_6'],\n",
       "      dtype='object')"
      ]
     },
     "execution_count": 13,
     "metadata": {},
     "output_type": "execute_result"
    }
   ],
   "source": [
    "num_features=feature.describe().columns\n",
    "num_features"
   ]
  },
  {
   "cell_type": "code",
   "execution_count": 14,
   "metadata": {
    "scrolled": true
   },
   "outputs": [
    {
     "data": {
      "image/png": "[encoded data removed]",
      "text/plain": [
       "<Figure size 720x720 with 9 Axes>"
      ]
     },
     "metadata": {
      "needs_background": "light"
     },
     "output_type": "display_data"
    }
   ],
   "source": [
    "# Distribution of all the numerical features.\n",
    "_,ax=plt.subplots(nrows=3,ncols=3,figsize=(10,10))\n",
    "ax=ax.flatten()\n",
    "for col,ax in zip(num_features,ax):\n",
    "    sns.distplot(train.loc[train.labels=='1',col],color='r',ax=ax,kde=False)\n",
    "    sns.distplot(train.loc[train.labels=='0',col],color='b',ax=ax,kde=False)"
   ]
  },
  {
   "cell_type": "markdown",
   "metadata": {},
   "source": [
    "### New feature generation"
   ]
  },
  {
   "cell_type": "code",
   "execution_count": 16,
   "metadata": {},
   "outputs": [],
   "source": [
    "#Based on the aggreagation of the numerical one-I\n",
    "feature['sum']=feature.feature_0+feature.feature_1+feature.feature_2+feature.feature_3+feature.feature_4+feature.feature_5+feature.feature_6\n",
    "feature['sum']=feature['sum']**-1"
   ]
  },
  {
   "cell_type": "code",
   "execution_count": 17,
   "metadata": {},
   "outputs": [],
   "source": [
    "# Numerical combination -II\n",
    "for col1,col2 in itertools.combinations(num_features,2):\n",
    "    feature[col1+col2]=feature[col1]+feature[col2]"
   ]
  },
  {
   "cell_type": "code",
   "execution_count": 18,
   "metadata": {},
   "outputs": [
    {
     "data": {
      "text/plain": [
       "Index(['feature_0', 'feature_1', 'feature_2', 'feature_3', 'feature_4',\n",
       "       'feature_5', 'feature_6', 'sum', 'feature_0feature_1',\n",
       "       'feature_0feature_2', 'feature_0feature_3', 'feature_0feature_4',\n",
       "       'feature_0feature_5', 'feature_0feature_6', 'feature_1feature_2',\n",
       "       'feature_1feature_3', 'feature_1feature_4', 'feature_1feature_5',\n",
       "       'feature_1feature_6', 'feature_2feature_3', 'feature_2feature_4',\n",
       "       'feature_2feature_5', 'feature_2feature_6', 'feature_3feature_4',\n",
       "       'feature_3feature_5', 'feature_3feature_6', 'feature_4feature_5',\n",
       "       'feature_4feature_6', 'feature_5feature_6'],\n",
       "      dtype='object')"
      ]
     },
     "execution_count": 18,
     "metadata": {},
     "output_type": "execute_result"
    }
   ],
   "source": [
    "num_features_=feature.describe().columns\n",
    "num_features_"
   ]
  },
  {
   "cell_type": "markdown",
   "metadata": {},
   "source": [
    "feature=feature.join(feature[num_features_].apply(lambda x:x**2).add_suffix('_2'))\n",
    "feature=feature.join(feature[num_features_].apply(lambda x:x**.5).add_suffix('_.5'))"
   ]
  },
  {
   "cell_type": "code",
   "execution_count": 20,
   "metadata": {},
   "outputs": [],
   "source": [
    "cat_features=feature.describe(exclude='number').columns"
   ]
  },
  {
   "cell_type": "code",
   "execution_count": 21,
   "metadata": {},
   "outputs": [],
   "source": [
    "# Based on the categorical features.\n",
    "for col1,col2 in itertools.combinations(cat_features,2):\n",
    "    feature[col1+'_'+col2]=feature[col1]+feature[col2]\n",
    "    \n",
    "#for col1,col2,col3 in itertools.combinations(cat_features,3):\n",
    "    #feature[col1+'_'+col2+col3]=feature[col1]+feature[col2]+feature[col3]  "
   ]
  },
  {
   "cell_type": "code",
   "execution_count": 22,
   "metadata": {},
   "outputs": [
    {
     "data": {
      "text/plain": [
       "Index(['feature_7', 'feature_8', 'feature_9', 'feature_10', 'feature_11',\n",
       "       'feature_12', 'feature_13', 'feature_14', 'feature_15',\n",
       "       'feature_7_feature_8', 'feature_7_feature_9', 'feature_7_feature_10',\n",
       "       'feature_7_feature_11', 'feature_7_feature_12', 'feature_7_feature_13',\n",
       "       'feature_7_feature_14', 'feature_7_feature_15', 'feature_8_feature_9',\n",
       "       'feature_8_feature_10', 'feature_8_feature_11', 'feature_8_feature_12',\n",
       "       'feature_8_feature_13', 'feature_8_feature_14', 'feature_8_feature_15',\n",
       "       'feature_9_feature_10', 'feature_9_feature_11', 'feature_9_feature_12',\n",
       "       'feature_9_feature_13', 'feature_9_feature_14', 'feature_9_feature_15',\n",
       "       'feature_10_feature_11', 'feature_10_feature_12',\n",
       "       'feature_10_feature_13', 'feature_10_feature_14',\n",
       "       'feature_10_feature_15', 'feature_11_feature_12',\n",
       "       'feature_11_feature_13', 'feature_11_feature_14',\n",
       "       'feature_11_feature_15', 'feature_12_feature_13',\n",
       "       'feature_12_feature_14', 'feature_12_feature_15',\n",
       "       'feature_13_feature_14', 'feature_13_feature_15',\n",
       "       'feature_14_feature_15'],\n",
       "      dtype='object')"
      ]
     },
     "execution_count": 22,
     "metadata": {},
     "output_type": "execute_result"
    }
   ],
   "source": [
    "cat_features_=feature.describe(exclude='number').columns\n",
    "cat_features_"
   ]
  },
  {
   "cell_type": "markdown",
   "metadata": {},
   "source": [
    "### Encoding"
   ]
  },
  {
   "cell_type": "code",
   "execution_count": 23,
   "metadata": {},
   "outputs": [],
   "source": [
    "te=category_encoders.TargetEncoder()\n",
    "te.fit(feature[cat_features_],label.map(int))\n",
    "encoded=te.transform(feature[cat_features_])"
   ]
  },
  {
   "cell_type": "code",
   "execution_count": 24,
   "metadata": {},
   "outputs": [
    {
     "data": {
      "text/plain": [
       "(33908, 74)"
      ]
     },
     "execution_count": 24,
     "metadata": {},
     "output_type": "execute_result"
    }
   ],
   "source": [
    "feature.shape"
   ]
  },
  {
   "cell_type": "code",
   "execution_count": 25,
   "metadata": {},
   "outputs": [],
   "source": [
    "feature=feature.join(encoded.add_suffix('_c'))"
   ]
  },
  {
   "cell_type": "code",
   "execution_count": 26,
   "metadata": {},
   "outputs": [],
   "source": [
    "# Label Encoding\n",
    "feature[cat_features_]=feature[cat_features_].apply(lambda x:x.map(int))"
   ]
  },
  {
   "cell_type": "code",
   "execution_count": 27,
   "metadata": {},
   "outputs": [
    {
     "data": {
      "text/plain": [
       "(33908, 119)"
      ]
     },
     "execution_count": 27,
     "metadata": {},
     "output_type": "execute_result"
    }
   ],
   "source": [
    "feature.shape"
   ]
  },
  {
   "cell_type": "markdown",
   "metadata": {},
   "source": [
    "# Upsampling"
   ]
  },
  {
   "cell_type": "code",
   "execution_count": 28,
   "metadata": {},
   "outputs": [],
   "source": [
    "from imblearn.over_sampling import SMOTE\n",
    "sm=SMOTE(sampling_strategy='minority')\n",
    "feature_,label_=sm.fit_sample(feature,label)"
   ]
  },
  {
   "cell_type": "code",
   "execution_count": 29,
   "metadata": {},
   "outputs": [
    {
     "data": {
      "text/plain": [
       "1    29941\n",
       "0    29941\n",
       "Name: labels, dtype: int64"
      ]
     },
     "execution_count": 29,
     "metadata": {},
     "output_type": "execute_result"
    }
   ],
   "source": [
    "label_.value_counts()"
   ]
  },
  {
   "cell_type": "markdown",
   "metadata": {},
   "source": [
    "feature=feature_\n",
    "label=label_"
   ]
  },
  {
   "cell_type": "markdown",
   "metadata": {},
   "source": [
    "# test prepro"
   ]
  },
  {
   "cell_type": "code",
   "execution_count": 30,
   "metadata": {},
   "outputs": [],
   "source": [
    "# On numerical attributes.\n",
    "test['sum']=test.feature_0+test.feature_1+test.feature_2+test.feature_3+test.feature_4+test.feature_5+test.feature_6\n",
    "test['sum']=test['sum']**-1\n",
    "for col1,col2 in itertools.combinations(num_features,2):\n",
    "    test[col1+col2]=test[col1]+test[col2]\n",
    "\n",
    "\n",
    "for col in test.columns:\n",
    "    if test[col].dtype=='int64':\n",
    "        test[col]=test[col].astype(str)        "
   ]
  },
  {
   "cell_type": "code",
   "execution_count": 31,
   "metadata": {},
   "outputs": [],
   "source": [
    "# On categorical attributes.        \n",
    "for col1,col2 in itertools.combinations(cat_features,2):\n",
    "    test[col1+'_'+col2]=test[col1]+test[col2]\n",
    "    \n",
    "encoded=te.transform(test[cat_features_])  \n",
    "test=test.join(encoded.add_suffix('_c'))\n",
    "test[cat_features_]=test[cat_features_].apply(lambda x:x.map(int))"
   ]
  },
  {
   "cell_type": "code",
   "execution_count": 32,
   "metadata": {},
   "outputs": [
    {
     "data": {
      "text/plain": [
       "(11303, 119)"
      ]
     },
     "execution_count": 32,
     "metadata": {},
     "output_type": "execute_result"
    }
   ],
   "source": [
    "test.shape"
   ]
  },
  {
   "cell_type": "markdown",
   "metadata": {},
   "source": [
    "# Baseline models"
   ]
  },
  {
   "cell_type": "code",
   "execution_count": 58,
   "metadata": {},
   "outputs": [],
   "source": [
    "X_train,X_test,y_train,y_test=train_test_split(feature_,label_,stratify=label_,random_state=9)\n",
    "lgb=LGBMClassifier().fit(X_train,y_train)\n",
    "y_pred=lgb.predict(X_test)"
   ]
  },
  {
   "cell_type": "code",
   "execution_count": 59,
   "metadata": {},
   "outputs": [
    {
     "data": {
      "text/plain": [
       "(array([[7009,  477],\n",
       "        [ 390, 7095]], dtype=int64),\n",
       " 0.9424188085275951)"
      ]
     },
     "execution_count": 59,
     "metadata": {},
     "output_type": "execute_result"
    }
   ],
   "source": [
    "confusion_matrix(y_test,y_pred),f1_score(y_test,y_pred,pos_label='1')"
   ]
  },
  {
   "cell_type": "code",
   "execution_count": 60,
   "metadata": {
    "scrolled": true
   },
   "outputs": [
    {
     "data": {
      "text/plain": [
       "<matplotlib.axes._subplots.AxesSubplot at 0x246ccdfd9e8>"
      ]
     },
     "execution_count": 60,
     "metadata": {},
     "output_type": "execute_result"
    },
    {
     "data": {
      "image/png": "[encoded data removed]",
      "text/plain": [
       "<Figure size 360x1080 with 1 Axes>"
      ]
     },
     "metadata": {
      "needs_background": "light"
     },
     "output_type": "display_data"
    }
   ],
   "source": [
    "plt.figure(figsize=(5,15))\n",
    "sns.barplot(y=X_train.columns,x=lgb.feature_importances_)"
   ]
  },
  {
   "cell_type": "markdown",
   "metadata": {},
   "source": [
    "# Final"
   ]
  },
  {
   "cell_type": "code",
   "execution_count": 61,
   "metadata": {},
   "outputs": [],
   "source": [
    "rf=RandomForestClassifier(max_depth=15)\n",
    "knn=KNeighborsClassifier(n_neighbors=3)\n",
    "xgb=XGBClassifier()\n",
    "esti=(['lgb',lgb],['xgb',xgb],['knn',knn])\n",
    "model=VotingClassifier(estimators=esti,n_jobs=-1).fit(X_train,y_train)\n",
    "y_pred=model.predict(X_test)"
   ]
  },
  {
   "cell_type": "code",
   "execution_count": 62,
   "metadata": {},
   "outputs": [
    {
     "data": {
      "text/plain": [
       "(array([[6889,  597],\n",
       "        [ 272, 7213]], dtype=int64),\n",
       " 0.9431840470742073)"
      ]
     },
     "execution_count": 62,
     "metadata": {},
     "output_type": "execute_result"
    }
   ],
   "source": [
    "confusion_matrix(y_test,y_pred),f1_score(y_test,y_pred,pos_label='1')"
   ]
  },
  {
   "cell_type": "code",
   "execution_count": 63,
   "metadata": {
    "collapsed": true
   },
   "outputs": [
    {
     "data": {
      "text/plain": [
       "<matplotlib.axes._subplots.AxesSubplot at 0x246c7251d30>"
      ]
     },
     "execution_count": 63,
     "metadata": {},
     "output_type": "execute_result"
    },
    {
     "data": {
      "image/png": "[encoded data removed]",
      "text/plain": [
       "<Figure size 360x1080 with 1 Axes>"
      ]
     },
     "metadata": {
      "needs_background": "light"
     },
     "output_type": "display_data"
    }
   ],
   "source": [
    "plt.figure(figsize=(5,15))\n",
    "sns.barplot(y=X_train.columns,x=lgb.feature_importances_)"
   ]
  },
  {
   "cell_type": "markdown",
   "metadata": {},
   "source": [
    "# Feature selection"
   ]
  },
  {
   "cell_type": "markdown",
   "metadata": {},
   "source": [
    "#### By tree mothod"
   ]
  },
  {
   "cell_type": "code",
   "execution_count": 42,
   "metadata": {},
   "outputs": [],
   "source": [
    "from sklearn.feature_selection import RFE\n",
    "rfe=RFE(estimator=lgb,n_features_to_select=30,step=5).fit(feature_,label_)"
   ]
  },
  {
   "cell_type": "code",
   "execution_count": 43,
   "metadata": {},
   "outputs": [
    {
     "data": {
      "text/plain": [
       "Index(['feature_0', 'feature_1', 'feature_2', 'feature_3', 'feature_4', 'sum',\n",
       "       'feature_0feature_3', 'feature_0feature_4', 'feature_1feature_3',\n",
       "       'feature_2feature_3', 'feature_2feature_4', 'feature_2feature_5',\n",
       "       'feature_3feature_5', 'feature_3feature_6', 'feature_4feature_5',\n",
       "       'feature_4feature_6', 'feature_9_feature_14', 'feature_13_feature_14',\n",
       "       'feature_14_feature_15', 'feature_15_c', 'feature_7_feature_9_c',\n",
       "       'feature_7_feature_14_c', 'feature_8_feature_14_c',\n",
       "       'feature_11_feature_12_c', 'feature_11_feature_14_c',\n",
       "       'feature_12_feature_13_c', 'feature_12_feature_14_c',\n",
       "       'feature_13_feature_14_c', 'feature_13_feature_15_c',\n",
       "       'feature_14_feature_15_c'],\n",
       "      dtype='object')"
      ]
     },
     "execution_count": 43,
     "metadata": {},
     "output_type": "execute_result"
    }
   ],
   "source": [
    "selected_col=feature.columns[rfe.support_]\n",
    "selected_col"
   ]
  },
  {
   "cell_type": "markdown",
   "metadata": {},
   "source": [
    "#### By l1 regularization."
   ]
  },
  {
   "cell_type": "code",
   "execution_count": 44,
   "metadata": {},
   "outputs": [
    {
     "name": "stderr",
     "output_type": "stream",
     "text": [
      "C:\\Users\\pankaj\\Anaconda3\\lib\\site-packages\\sklearn\\linear_model\\_sag.py:330: ConvergenceWarning: The max_iter was reached which means the coef_ did not converge\n",
      "  \"the coef_ did not converge\", ConvergenceWarning)\n"
     ]
    }
   ],
   "source": [
    "from sklearn.linear_model import LogisticRegression\n",
    "from sklearn.feature_selection import SelectFromModel\n",
    "lr=LogisticRegression(penalty='l1',C=.001,solver='saga').fit(feature_,label_)\n",
    "model_=SelectFromModel(estimator=lr,prefit=True)\n",
    "x_new=model_.transform(feature_)"
   ]
  },
  {
   "cell_type": "code",
   "execution_count": 45,
   "metadata": {},
   "outputs": [],
   "source": [
    "new=pd.DataFrame(model_.inverse_transform(x_new),index=feature_.index,columns=feature_.columns)"
   ]
  },
  {
   "cell_type": "code",
   "execution_count": 46,
   "metadata": {},
   "outputs": [],
   "source": [
    "selected_col2=feature.columns[new.var()!=0]"
   ]
  },
  {
   "cell_type": "code",
   "execution_count": 47,
   "metadata": {},
   "outputs": [
    {
     "data": {
      "text/plain": [
       "Index(['feature_1', 'feature_2', 'feature_3', 'feature_4', 'feature_5',\n",
       "       'feature_6', 'feature_11', 'feature_12', 'feature_13', 'feature_14',\n",
       "       'feature_15', 'sum', 'feature_0feature_1', 'feature_0feature_3',\n",
       "       'feature_0feature_4', 'feature_0feature_5', 'feature_0feature_6',\n",
       "       'feature_1feature_3', 'feature_1feature_4', 'feature_1feature_5',\n",
       "       'feature_1feature_6', 'feature_2feature_3', 'feature_2feature_4',\n",
       "       'feature_2feature_5', 'feature_3feature_4', 'feature_3feature_5',\n",
       "       'feature_3feature_6', 'feature_5feature_6', 'feature_7_feature_8',\n",
       "       'feature_7_feature_9', 'feature_7_feature_10', 'feature_7_feature_11',\n",
       "       'feature_7_feature_13', 'feature_7_feature_14', 'feature_7_feature_15',\n",
       "       'feature_8_feature_9', 'feature_8_feature_10', 'feature_8_feature_11',\n",
       "       'feature_8_feature_12', 'feature_8_feature_13', 'feature_8_feature_14',\n",
       "       'feature_8_feature_15', 'feature_9_feature_10', 'feature_9_feature_11',\n",
       "       'feature_9_feature_12', 'feature_9_feature_13', 'feature_9_feature_14',\n",
       "       'feature_9_feature_15', 'feature_10_feature_11',\n",
       "       'feature_10_feature_12', 'feature_10_feature_13',\n",
       "       'feature_10_feature_14', 'feature_10_feature_15',\n",
       "       'feature_11_feature_12', 'feature_11_feature_13',\n",
       "       'feature_11_feature_14', 'feature_11_feature_15',\n",
       "       'feature_12_feature_13', 'feature_12_feature_14',\n",
       "       'feature_12_feature_15', 'feature_13_feature_14',\n",
       "       'feature_13_feature_15', 'feature_14_feature_15', 'feature_15_c',\n",
       "       'feature_7_feature_15_c', 'feature_8_feature_15_c',\n",
       "       'feature_9_feature_15_c', 'feature_10_feature_15_c',\n",
       "       'feature_11_feature_15_c', 'feature_12_feature_15_c',\n",
       "       'feature_13_feature_15_c', 'feature_14_feature_15_c'],\n",
       "      dtype='object')"
      ]
     },
     "execution_count": 47,
     "metadata": {},
     "output_type": "execute_result"
    }
   ],
   "source": [
    "selected_col2"
   ]
  },
  {
   "cell_type": "code",
   "execution_count": 48,
   "metadata": {},
   "outputs": [
    {
     "data": {
      "text/plain": [
       "(33908, 119)"
      ]
     },
     "execution_count": 48,
     "metadata": {},
     "output_type": "execute_result"
    }
   ],
   "source": [
    "feature.shape"
   ]
  },
  {
   "cell_type": "markdown",
   "metadata": {},
   "source": [
    "# Tunning"
   ]
  },
  {
   "cell_type": "code",
   "execution_count": 149,
   "metadata": {},
   "outputs": [],
   "source": [
    "#pram={'num_leaves':(40,30,35),'max_depth':(15,20,30),'n_estimators':(200,300),'subsample_for_bin':(40000,80000),'subsample':(.8,.6)}\n",
    "pram={'max_depth':(5,10,15),'n_estimators':(200,300)}\n",
    "gs=GridSearchCV(estimator=XGBClassifier(),param_grid=pram,cv=2,n_jobs=-1).fit(np.array(X_train),y_train)\n"
   ]
  },
  {
   "cell_type": "code",
   "execution_count": 150,
   "metadata": {},
   "outputs": [
    {
     "data": {
      "text/plain": [
       "{'max_depth': 10, 'n_estimators': 300}"
      ]
     },
     "execution_count": 150,
     "metadata": {},
     "output_type": "execute_result"
    }
   ],
   "source": [
    "gs.best_params_"
   ]
  },
  {
   "cell_type": "markdown",
   "metadata": {},
   "source": [
    "# Final model(Voting) on selected attributes by RFE"
   ]
  },
  {
   "cell_type": "code",
   "execution_count": 56,
   "metadata": {},
   "outputs": [
    {
     "data": {
      "text/plain": [
       "VotingClassifier(estimators=(['lgb',\n",
       "                              LGBMClassifier(boosting_type='gbdt',\n",
       "                                             class_weight=None,\n",
       "                                             colsample_bytree=1.0,\n",
       "                                             importance_type='split',\n",
       "                                             learning_rate=0.1, max_depth=-1,\n",
       "                                             min_child_samples=20,\n",
       "                                             min_child_weight=0.001,\n",
       "                                             min_split_gain=0.0,\n",
       "                                             n_estimators=100, n_jobs=-1,\n",
       "                                             num_leaves=31, objective=None,\n",
       "                                             random_state=None, reg_alpha=0.0,\n",
       "                                             reg_lambda=0.0, silent=True,\n",
       "                                             subsam...\n",
       "                                            n_jobs=1, nthread=None,\n",
       "                                            objective='binary:logistic',\n",
       "                                            random_state=0, reg_alpha=0,\n",
       "                                            reg_lambda=1, scale_pos_weight=1,\n",
       "                                            seed=None, silent=None, subsample=1,\n",
       "                                            verbosity=1)],\n",
       "                             ['knn',\n",
       "                              KNeighborsClassifier(algorithm='auto',\n",
       "                                                   leaf_size=30,\n",
       "                                                   metric='minkowski',\n",
       "                                                   metric_params=None,\n",
       "                                                   n_jobs=None, n_neighbors=3,\n",
       "                                                   p=2, weights='uniform')]),\n",
       "                 flatten_transform=True, n_jobs=-1, voting='hard',\n",
       "                 weights=None)"
      ]
     },
     "execution_count": 56,
     "metadata": {},
     "output_type": "execute_result"
    }
   ],
   "source": [
    "model.fit(feature_[selected_col],label_)"
   ]
  },
  {
   "cell_type": "code",
   "execution_count": 163,
   "metadata": {},
   "outputs": [],
   "source": [
    "y_pred=model.predict(test[selected_col])"
   ]
  },
  {
   "cell_type": "code",
   "execution_count": 164,
   "metadata": {},
   "outputs": [],
   "source": [
    "pd.Series(y_pred,name='labels').to_csv(r'C:\\Users\\pankaj\\Desktop\\churn.csv',index=False)"
   ]
  },
  {
   "cell_type": "code",
   "execution_count": 165,
   "metadata": {},
   "outputs": [
    {
     "data": {
      "text/plain": [
       "0    9551\n",
       "1    1752\n",
       "dtype: int64"
      ]
     },
     "execution_count": 165,
     "metadata": {},
     "output_type": "execute_result"
    }
   ],
   "source": [
    "pd.Series(y_pred).value_counts()"
   ]
  },
  {
   "cell_type": "markdown",
   "metadata": {},
   "source": [
    "# What i learned."
   ]
  },
  {
   "cell_type": "raw",
   "metadata": {},
   "source": [
    "1.Do kfold cross validation instead of train test split\n",
    "2.Proper tune a model and rely on single model as most of participant do.\n",
    "3.make a function for validation ,it will save lots of efforts to write code again and again for different algorithem to see their performance.\n",
    "4.Don't try to drive lots feature by aggregating numerical attributes, just do for only categorical."
   ]
  },
  {
   "cell_type": "code",
   "execution_count": null,
   "metadata": {},
   "outputs": [],
   "source": []
  }
 ],
 "metadata": {
  "kernelspec": {
   "display_name": "Python 3",
   "language": "python",
   "name": "python3"
  },
  "language_info": {
   "codemirror_mode": {
    "name": "ipython",
    "version": 3
   },
   "file_extension": ".py",
   "mimetype": "text/x-python",
   "name": "python",
   "nbconvert_exporter": "python",
   "pygments_lexer": "ipython3",
   "version": "3.7.3"
  }
 },
 "nbformat": 4,
 "nbformat_minor": 4
}
