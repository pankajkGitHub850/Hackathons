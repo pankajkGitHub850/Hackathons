{
 "cells": [
  {
   "cell_type": "code",
   "execution_count": 2,
   "metadata": {},
   "outputs": [],
   "source": [
    "import pandas as pd\n",
    "import numpy as np\n",
    "import matplotlib.pyplot as plt\n",
    "import seaborn as sns"
   ]
  },
  {
   "cell_type": "code",
   "execution_count": 3,
   "metadata": {},
   "outputs": [],
   "source": [
    "train=pd.read_csv(r'D:\\Downloads\\Compressed\\attrition prediction\\Dataset\\Train.csv')\n",
    "test=pd.read_csv(r'D:\\Downloads\\Compressed\\attrition prediction\\Dataset\\Test.csv')\n",
    "sample=pd.read_csv(r'D:\\Downloads\\Compressed\\attrition prediction\\Dataset\\Sample_submission.csv')"
   ]
  },
  {
   "cell_type": "code",
   "execution_count": 4,
   "metadata": {},
   "outputs": [
    {
     "data": {
      "text/html": [
       "<div>\n",
       "<style scoped>\n",
       "    .dataframe tbody tr th:only-of-type {\n",
       "        vertical-align: middle;\n",
       "    }\n",
       "\n",
       "    .dataframe tbody tr th {\n",
       "        vertical-align: top;\n",
       "    }\n",
       "\n",
       "    .dataframe thead th {\n",
       "        text-align: right;\n",
       "    }\n",
       "</style>\n",
       "<table border=\"1\" class=\"dataframe\">\n",
       "  <thead>\n",
       "    <tr style=\"text-align: right;\">\n",
       "      <th></th>\n",
       "      <th>Employee_ID</th>\n",
       "      <th>Gender</th>\n",
       "      <th>Age</th>\n",
       "      <th>Education_Level</th>\n",
       "      <th>Relationship_Status</th>\n",
       "      <th>Hometown</th>\n",
       "      <th>Unit</th>\n",
       "      <th>Decision_skill_possess</th>\n",
       "      <th>Time_of_service</th>\n",
       "      <th>Time_since_promotion</th>\n",
       "      <th>...</th>\n",
       "      <th>Compensation_and_Benefits</th>\n",
       "      <th>Work_Life_balance</th>\n",
       "      <th>VAR1</th>\n",
       "      <th>VAR2</th>\n",
       "      <th>VAR3</th>\n",
       "      <th>VAR4</th>\n",
       "      <th>VAR5</th>\n",
       "      <th>VAR6</th>\n",
       "      <th>VAR7</th>\n",
       "      <th>Attrition_rate</th>\n",
       "    </tr>\n",
       "  </thead>\n",
       "  <tbody>\n",
       "    <tr>\n",
       "      <th>0</th>\n",
       "      <td>EID_23371</td>\n",
       "      <td>F</td>\n",
       "      <td>42.0</td>\n",
       "      <td>4</td>\n",
       "      <td>Married</td>\n",
       "      <td>Franklin</td>\n",
       "      <td>IT</td>\n",
       "      <td>Conceptual</td>\n",
       "      <td>4.0</td>\n",
       "      <td>4</td>\n",
       "      <td>...</td>\n",
       "      <td>type2</td>\n",
       "      <td>3.0</td>\n",
       "      <td>4</td>\n",
       "      <td>0.7516</td>\n",
       "      <td>1.8688</td>\n",
       "      <td>2.0</td>\n",
       "      <td>4</td>\n",
       "      <td>5</td>\n",
       "      <td>3</td>\n",
       "      <td>0.1841</td>\n",
       "    </tr>\n",
       "    <tr>\n",
       "      <th>1</th>\n",
       "      <td>EID_18000</td>\n",
       "      <td>M</td>\n",
       "      <td>24.0</td>\n",
       "      <td>3</td>\n",
       "      <td>Single</td>\n",
       "      <td>Springfield</td>\n",
       "      <td>Logistics</td>\n",
       "      <td>Analytical</td>\n",
       "      <td>5.0</td>\n",
       "      <td>4</td>\n",
       "      <td>...</td>\n",
       "      <td>type2</td>\n",
       "      <td>4.0</td>\n",
       "      <td>3</td>\n",
       "      <td>-0.9612</td>\n",
       "      <td>-0.4537</td>\n",
       "      <td>2.0</td>\n",
       "      <td>3</td>\n",
       "      <td>5</td>\n",
       "      <td>3</td>\n",
       "      <td>0.0670</td>\n",
       "    </tr>\n",
       "    <tr>\n",
       "      <th>2</th>\n",
       "      <td>EID_3891</td>\n",
       "      <td>F</td>\n",
       "      <td>58.0</td>\n",
       "      <td>3</td>\n",
       "      <td>Married</td>\n",
       "      <td>Clinton</td>\n",
       "      <td>Quality</td>\n",
       "      <td>Conceptual</td>\n",
       "      <td>27.0</td>\n",
       "      <td>3</td>\n",
       "      <td>...</td>\n",
       "      <td>type2</td>\n",
       "      <td>1.0</td>\n",
       "      <td>4</td>\n",
       "      <td>-0.9612</td>\n",
       "      <td>-0.4537</td>\n",
       "      <td>3.0</td>\n",
       "      <td>3</td>\n",
       "      <td>8</td>\n",
       "      <td>3</td>\n",
       "      <td>0.0851</td>\n",
       "    </tr>\n",
       "    <tr>\n",
       "      <th>3</th>\n",
       "      <td>EID_17492</td>\n",
       "      <td>F</td>\n",
       "      <td>26.0</td>\n",
       "      <td>3</td>\n",
       "      <td>Single</td>\n",
       "      <td>Lebanon</td>\n",
       "      <td>Human Resource Management</td>\n",
       "      <td>Behavioral</td>\n",
       "      <td>4.0</td>\n",
       "      <td>3</td>\n",
       "      <td>...</td>\n",
       "      <td>type2</td>\n",
       "      <td>1.0</td>\n",
       "      <td>3</td>\n",
       "      <td>-1.8176</td>\n",
       "      <td>-0.4537</td>\n",
       "      <td>NaN</td>\n",
       "      <td>3</td>\n",
       "      <td>7</td>\n",
       "      <td>3</td>\n",
       "      <td>0.0668</td>\n",
       "    </tr>\n",
       "    <tr>\n",
       "      <th>4</th>\n",
       "      <td>EID_22534</td>\n",
       "      <td>F</td>\n",
       "      <td>31.0</td>\n",
       "      <td>1</td>\n",
       "      <td>Married</td>\n",
       "      <td>Springfield</td>\n",
       "      <td>Logistics</td>\n",
       "      <td>Conceptual</td>\n",
       "      <td>5.0</td>\n",
       "      <td>4</td>\n",
       "      <td>...</td>\n",
       "      <td>type3</td>\n",
       "      <td>3.0</td>\n",
       "      <td>1</td>\n",
       "      <td>0.7516</td>\n",
       "      <td>-0.4537</td>\n",
       "      <td>2.0</td>\n",
       "      <td>2</td>\n",
       "      <td>8</td>\n",
       "      <td>2</td>\n",
       "      <td>0.1827</td>\n",
       "    </tr>\n",
       "  </tbody>\n",
       "</table>\n",
       "<p>5 rows × 24 columns</p>\n",
       "</div>"
      ],
      "text/plain": [
       "  Employee_ID Gender   Age  Education_Level Relationship_Status     Hometown  \\\n",
       "0   EID_23371      F  42.0                4             Married     Franklin   \n",
       "1   EID_18000      M  24.0                3              Single  Springfield   \n",
       "2    EID_3891      F  58.0                3             Married      Clinton   \n",
       "3   EID_17492      F  26.0                3              Single      Lebanon   \n",
       "4   EID_22534      F  31.0                1             Married  Springfield   \n",
       "\n",
       "                        Unit Decision_skill_possess  Time_of_service  \\\n",
       "0                         IT             Conceptual              4.0   \n",
       "1                  Logistics             Analytical              5.0   \n",
       "2                    Quality             Conceptual             27.0   \n",
       "3  Human Resource Management             Behavioral              4.0   \n",
       "4                  Logistics             Conceptual              5.0   \n",
       "\n",
       "   Time_since_promotion  ...  Compensation_and_Benefits  Work_Life_balance  \\\n",
       "0                     4  ...                      type2                3.0   \n",
       "1                     4  ...                      type2                4.0   \n",
       "2                     3  ...                      type2                1.0   \n",
       "3                     3  ...                      type2                1.0   \n",
       "4                     4  ...                      type3                3.0   \n",
       "\n",
       "   VAR1    VAR2    VAR3  VAR4  VAR5  VAR6  VAR7  Attrition_rate  \n",
       "0     4  0.7516  1.8688   2.0     4     5     3          0.1841  \n",
       "1     3 -0.9612 -0.4537   2.0     3     5     3          0.0670  \n",
       "2     4 -0.9612 -0.4537   3.0     3     8     3          0.0851  \n",
       "3     3 -1.8176 -0.4537   NaN     3     7     3          0.0668  \n",
       "4     1  0.7516 -0.4537   2.0     2     8     2          0.1827  \n",
       "\n",
       "[5 rows x 24 columns]"
      ]
     },
     "execution_count": 4,
     "metadata": {},
     "output_type": "execute_result"
    }
   ],
   "source": [
    "train.head()"
   ]
  },
  {
   "cell_type": "code",
   "execution_count": 5,
   "metadata": {},
   "outputs": [
    {
     "data": {
      "text/html": [
       "<div>\n",
       "<style scoped>\n",
       "    .dataframe tbody tr th:only-of-type {\n",
       "        vertical-align: middle;\n",
       "    }\n",
       "\n",
       "    .dataframe tbody tr th {\n",
       "        vertical-align: top;\n",
       "    }\n",
       "\n",
       "    .dataframe thead th {\n",
       "        text-align: right;\n",
       "    }\n",
       "</style>\n",
       "<table border=\"1\" class=\"dataframe\">\n",
       "  <thead>\n",
       "    <tr style=\"text-align: right;\">\n",
       "      <th></th>\n",
       "      <th>Employee_ID</th>\n",
       "      <th>Attrition_rate</th>\n",
       "    </tr>\n",
       "  </thead>\n",
       "  <tbody>\n",
       "    <tr>\n",
       "      <th>0</th>\n",
       "      <td>TID_1</td>\n",
       "      <td>0.1588</td>\n",
       "    </tr>\n",
       "    <tr>\n",
       "      <th>1</th>\n",
       "      <td>TID_2</td>\n",
       "      <td>0.1424</td>\n",
       "    </tr>\n",
       "    <tr>\n",
       "      <th>2</th>\n",
       "      <td>TID_3</td>\n",
       "      <td>0.4758</td>\n",
       "    </tr>\n",
       "    <tr>\n",
       "      <th>3</th>\n",
       "      <td>TID_4</td>\n",
       "      <td>0.0846</td>\n",
       "    </tr>\n",
       "    <tr>\n",
       "      <th>4</th>\n",
       "      <td>TID_5</td>\n",
       "      <td>0.2388</td>\n",
       "    </tr>\n",
       "  </tbody>\n",
       "</table>\n",
       "</div>"
      ],
      "text/plain": [
       "  Employee_ID  Attrition_rate\n",
       "0       TID_1          0.1588\n",
       "1       TID_2          0.1424\n",
       "2       TID_3          0.4758\n",
       "3       TID_4          0.0846\n",
       "4       TID_5          0.2388"
      ]
     },
     "execution_count": 5,
     "metadata": {},
     "output_type": "execute_result"
    }
   ],
   "source": [
    "sample.head()"
   ]
  },
  {
   "cell_type": "code",
   "execution_count": 6,
   "metadata": {},
   "outputs": [
    {
     "data": {
      "text/plain": [
       "(7000, 24)"
      ]
     },
     "execution_count": 6,
     "metadata": {},
     "output_type": "execute_result"
    }
   ],
   "source": [
    "train.shape"
   ]
  },
  {
   "cell_type": "markdown",
   "metadata": {},
   "source": [
    "# Absolute base model"
   ]
  },
  {
   "cell_type": "markdown",
   "metadata": {},
   "source": [
    "# Label encoding"
   ]
  },
  {
   "cell_type": "code",
   "execution_count": 7,
   "metadata": {},
   "outputs": [],
   "source": [
    "traindf=train.copy()\n",
    "testdf=test.copy()"
   ]
  },
  {
   "cell_type": "code",
   "execution_count": 8,
   "metadata": {},
   "outputs": [],
   "source": [
    "traindf.drop('Employee_ID',axis=1,inplace=True)\n",
    "testdf.drop('Employee_ID',axis=1,inplace=True)"
   ]
  },
  {
   "cell_type": "code",
   "execution_count": 9,
   "metadata": {},
   "outputs": [],
   "source": [
    "from sklearn.preprocessing import LabelEncoder\n",
    "le=LabelEncoder()\n",
    "cat_features=traindf.columns[traindf.dtypes==object]\n",
    "for col in cat_features:\n",
    "    le.fit(traindf[col])\n",
    "    testdf[col]=le.transform(testdf[col])\n",
    "    traindf[col]=le.transform(traindf[col])"
   ]
  },
  {
   "cell_type": "code",
   "execution_count": 10,
   "metadata": {},
   "outputs": [],
   "source": [
    "feature=traindf.drop('Attrition_rate',axis=1)\n",
    "label=traindf.Attrition_rate"
   ]
  },
  {
   "cell_type": "code",
   "execution_count": 11,
   "metadata": {},
   "outputs": [
    {
     "data": {
      "text/plain": [
       "0.18386978573502039"
      ]
     },
     "execution_count": 11,
     "metadata": {},
     "output_type": "execute_result"
    }
   ],
   "source": [
    "from lightgbm import LGBMRegressor\n",
    "from sklearn.model_selection import train_test_split\n",
    "from sklearn.metrics import mean_squared_error\n",
    "X_train,X_test,y_train,y_test=train_test_split(feature,label)\n",
    "lgb=LGBMRegressor(max_depth=5,learning_rate=.01,n_estimators=100,subsample_for_bin=3000,subsample=.6,colsample_bytree=.6)\n",
    "lgb.fit(X_train,y_train)\n",
    "y_pred=lgb.predict(X_test)\n",
    "np.sqrt(mean_squared_error(y_test,y_pred))"
   ]
  },
  {
   "cell_type": "markdown",
   "metadata": {},
   "source": [
    "# Gridsearchcv"
   ]
  },
  {
   "cell_type": "code",
   "execution_count": 12,
   "metadata": {},
   "outputs": [],
   "source": [
    "from sklearn.model_selection import GridSearchCV\n",
    "params={'max_depth':[3,5,8],'learning_rate':[.1,.01],'n_estimators':[100,300,500],'subsample_for_bin':[3000,5000,7000],'subsample':[.6,.8],'colsample_bytree':[.6,.8,1]}\n",
    "gs=GridSearchCV(lgb,params,scoring='neg_mean_squared_error').fit(feature,label)"
   ]
  },
  {
   "cell_type": "code",
   "execution_count": 13,
   "metadata": {},
   "outputs": [
    {
     "data": {
      "text/plain": [
       "{'colsample_bytree': 0.6,\n",
       " 'learning_rate': 0.01,\n",
       " 'max_depth': 5,\n",
       " 'n_estimators': 100,\n",
       " 'subsample': 0.6,\n",
       " 'subsample_for_bin': 3000}"
      ]
     },
     "execution_count": 13,
     "metadata": {},
     "output_type": "execute_result"
    }
   ],
   "source": [
    "gs.best_params_"
   ]
  },
  {
   "cell_type": "markdown",
   "metadata": {},
   "source": [
    "# Xgboost"
   ]
  },
  {
   "cell_type": "code",
   "execution_count": 14,
   "metadata": {},
   "outputs": [
    {
     "data": {
      "text/html": [
       "<div>\n",
       "<style scoped>\n",
       "    .dataframe tbody tr th:only-of-type {\n",
       "        vertical-align: middle;\n",
       "    }\n",
       "\n",
       "    .dataframe tbody tr th {\n",
       "        vertical-align: top;\n",
       "    }\n",
       "\n",
       "    .dataframe thead th {\n",
       "        text-align: right;\n",
       "    }\n",
       "</style>\n",
       "<table border=\"1\" class=\"dataframe\">\n",
       "  <thead>\n",
       "    <tr style=\"text-align: right;\">\n",
       "      <th></th>\n",
       "      <th>train-rmse-mean</th>\n",
       "      <th>train-rmse-std</th>\n",
       "      <th>test-rmse-mean</th>\n",
       "      <th>test-rmse-std</th>\n",
       "    </tr>\n",
       "  </thead>\n",
       "  <tbody>\n",
       "    <tr>\n",
       "      <th>0</th>\n",
       "      <td>0.356608</td>\n",
       "      <td>0.000292</td>\n",
       "      <td>0.356607</td>\n",
       "      <td>0.000597</td>\n",
       "    </tr>\n",
       "    <tr>\n",
       "      <th>1</th>\n",
       "      <td>0.351429</td>\n",
       "      <td>0.000289</td>\n",
       "      <td>0.351429</td>\n",
       "      <td>0.000601</td>\n",
       "    </tr>\n",
       "    <tr>\n",
       "      <th>2</th>\n",
       "      <td>0.346383</td>\n",
       "      <td>0.000286</td>\n",
       "      <td>0.346383</td>\n",
       "      <td>0.000606</td>\n",
       "    </tr>\n",
       "    <tr>\n",
       "      <th>3</th>\n",
       "      <td>0.341467</td>\n",
       "      <td>0.000283</td>\n",
       "      <td>0.341466</td>\n",
       "      <td>0.000610</td>\n",
       "    </tr>\n",
       "    <tr>\n",
       "      <th>4</th>\n",
       "      <td>0.336677</td>\n",
       "      <td>0.000281</td>\n",
       "      <td>0.336677</td>\n",
       "      <td>0.000614</td>\n",
       "    </tr>\n",
       "    <tr>\n",
       "      <th>...</th>\n",
       "      <td>...</td>\n",
       "      <td>...</td>\n",
       "      <td>...</td>\n",
       "      <td>...</td>\n",
       "    </tr>\n",
       "    <tr>\n",
       "      <th>190</th>\n",
       "      <td>0.174988</td>\n",
       "      <td>0.000967</td>\n",
       "      <td>0.186422</td>\n",
       "      <td>0.000318</td>\n",
       "    </tr>\n",
       "    <tr>\n",
       "      <th>191</th>\n",
       "      <td>0.174905</td>\n",
       "      <td>0.000974</td>\n",
       "      <td>0.186413</td>\n",
       "      <td>0.000313</td>\n",
       "    </tr>\n",
       "    <tr>\n",
       "      <th>192</th>\n",
       "      <td>0.174829</td>\n",
       "      <td>0.000974</td>\n",
       "      <td>0.186412</td>\n",
       "      <td>0.000312</td>\n",
       "    </tr>\n",
       "    <tr>\n",
       "      <th>193</th>\n",
       "      <td>0.174767</td>\n",
       "      <td>0.000977</td>\n",
       "      <td>0.186410</td>\n",
       "      <td>0.000310</td>\n",
       "    </tr>\n",
       "    <tr>\n",
       "      <th>194</th>\n",
       "      <td>0.174692</td>\n",
       "      <td>0.000988</td>\n",
       "      <td>0.186402</td>\n",
       "      <td>0.000304</td>\n",
       "    </tr>\n",
       "  </tbody>\n",
       "</table>\n",
       "<p>195 rows × 4 columns</p>\n",
       "</div>"
      ],
      "text/plain": [
       "     train-rmse-mean  train-rmse-std  test-rmse-mean  test-rmse-std\n",
       "0           0.356608        0.000292        0.356607       0.000597\n",
       "1           0.351429        0.000289        0.351429       0.000601\n",
       "2           0.346383        0.000286        0.346383       0.000606\n",
       "3           0.341467        0.000283        0.341466       0.000610\n",
       "4           0.336677        0.000281        0.336677       0.000614\n",
       "..               ...             ...             ...            ...\n",
       "190         0.174988        0.000967        0.186422       0.000318\n",
       "191         0.174905        0.000974        0.186413       0.000313\n",
       "192         0.174829        0.000974        0.186412       0.000312\n",
       "193         0.174767        0.000977        0.186410       0.000310\n",
       "194         0.174692        0.000988        0.186402       0.000304\n",
       "\n",
       "[195 rows x 4 columns]"
      ]
     },
     "execution_count": 14,
     "metadata": {},
     "output_type": "execute_result"
    }
   ],
   "source": [
    "import xgboost as xgb\n",
    "dmatrix=xgb.DMatrix(feature,label)\n",
    "params={'objective':'reg:squarederror','max_depth':5,'colsample_bytree':.8,'eta':.02,'alpha':1}\n",
    "result=xgb.cv(params,dmatrix,num_boost_round=1000,early_stopping_rounds=20,as_pandas=True,nfold=3)\n",
    "result"
   ]
  },
  {
   "cell_type": "code",
   "execution_count": 18,
   "metadata": {},
   "outputs": [
    {
     "data": {
      "text/plain": [
       "((7000, 22), (3000, 22))"
      ]
     },
     "execution_count": 18,
     "metadata": {},
     "output_type": "execute_result"
    }
   ],
   "source": [
    "feature.shape,testdf.shape"
   ]
  },
  {
   "cell_type": "code",
   "execution_count": 19,
   "metadata": {},
   "outputs": [],
   "source": [
    "lgb.fit(feature,label)\n",
    "y_pred=lgb.predict(testdf)"
   ]
  },
  {
   "cell_type": "code",
   "execution_count": 21,
   "metadata": {},
   "outputs": [
    {
     "name": "stderr",
     "output_type": "stream",
     "text": [
      "C:\\Users\\pankaj\\Anaconda3\\lib\\site-packages\\ipykernel_launcher.py:4: SettingWithCopyWarning: \n",
      "A value is trying to be set on a copy of a slice from a DataFrame.\n",
      "Try using .loc[row_indexer,col_indexer] = value instead\n",
      "\n",
      "See the caveats in the documentation: https://pandas.pydata.org/pandas-docs/stable/user_guide/indexing.html#returning-a-view-versus-a-copy\n",
      "  after removing the cwd from sys.path.\n"
     ]
    }
   ],
   "source": [
    "y_pred=lgb.predict(testdf)\n",
    "t=pd.read_csv(r'D:\\Downloads\\Compressed\\attrition prediction\\Dataset\\Test.csv')\n",
    "save=t[['Employee_ID']]\n",
    "save['Attrition_rate']=y_pred\n",
    "save.to_csv(r'C:\\Users\\pankaj\\Desktop\\Attrition rate\\absolut_baseline.csv',index=False)"
   ]
  },
  {
   "cell_type": "markdown",
   "metadata": {},
   "source": [
    "# Eda + feature engineering"
   ]
  },
  {
   "cell_type": "code",
   "execution_count": 22,
   "metadata": {},
   "outputs": [
    {
     "data": {
      "text/plain": [
       "Employee_ID                    0\n",
       "Gender                         0\n",
       "Age                          161\n",
       "Education_Level                0\n",
       "Relationship_Status            0\n",
       "Hometown                       0\n",
       "Unit                           0\n",
       "Decision_skill_possess         0\n",
       "Time_of_service               52\n",
       "Time_since_promotion           0\n",
       "growth_rate                    0\n",
       "Travel_Rate                    0\n",
       "Post_Level                     0\n",
       "Pay_Scale                      3\n",
       "Compensation_and_Benefits      0\n",
       "Work_Life_balance              5\n",
       "VAR1                           0\n",
       "VAR2                         217\n",
       "VAR3                           0\n",
       "VAR4                         298\n",
       "VAR5                           0\n",
       "VAR6                           0\n",
       "VAR7                           0\n",
       "dtype: int64"
      ]
     },
     "execution_count": 22,
     "metadata": {},
     "output_type": "execute_result"
    }
   ],
   "source": [
    "test.isnull().sum()"
   ]
  },
  {
   "cell_type": "code",
   "execution_count": 23,
   "metadata": {},
   "outputs": [],
   "source": [
    "test.Age.fillna(train.Age.median(),inplace=True)\n",
    "test.Time_of_service.fillna(1,inplace=True)\n",
    "test.Education_Level.fillna(1,inplace=True)\n",
    "test.Work_Life_balance.fillna(1,inplace=True)\n",
    "test.VAR2.fillna(train.VAR2.median(),inplace=True)\n",
    "test.VAR4.fillna(train.VAR4.median(),inplace=True)"
   ]
  },
  {
   "cell_type": "code",
   "execution_count": 24,
   "metadata": {},
   "outputs": [],
   "source": [
    "train.Age.fillna(train.Age.median(),inplace=True)\n",
    "train.Time_of_service.fillna(1,inplace=True)\n",
    "train.Education_Level.fillna(1,inplace=True)\n",
    "train.Work_Life_balance.fillna(1,inplace=True)\n",
    "train.VAR2.fillna(train.VAR2.median(),inplace=True)\n",
    "train.VAR4.fillna(train.VAR4.median(),inplace=True)"
   ]
  },
  {
   "cell_type": "code",
   "execution_count": 25,
   "metadata": {},
   "outputs": [
    {
     "data": {
      "text/plain": [
       "Employee_ID                  0\n",
       "Gender                       0\n",
       "Age                          0\n",
       "Education_Level              0\n",
       "Relationship_Status          0\n",
       "Hometown                     0\n",
       "Unit                         0\n",
       "Decision_skill_possess       0\n",
       "Time_of_service              0\n",
       "Time_since_promotion         0\n",
       "growth_rate                  0\n",
       "Travel_Rate                  0\n",
       "Post_Level                   0\n",
       "Pay_Scale                    3\n",
       "Compensation_and_Benefits    0\n",
       "Work_Life_balance            0\n",
       "VAR1                         0\n",
       "VAR2                         0\n",
       "VAR3                         0\n",
       "VAR4                         0\n",
       "VAR5                         0\n",
       "VAR6                         0\n",
       "VAR7                         0\n",
       "dtype: int64"
      ]
     },
     "execution_count": 25,
     "metadata": {},
     "output_type": "execute_result"
    }
   ],
   "source": [
    "test.isnull().sum()"
   ]
  },
  {
   "cell_type": "code",
   "execution_count": 26,
   "metadata": {},
   "outputs": [],
   "source": [
    "test.Pay_Scale.fillna(1,inplace=True)"
   ]
  },
  {
   "cell_type": "code",
   "execution_count": 27,
   "metadata": {},
   "outputs": [],
   "source": [
    "cat_features=['Education_Level','Post_Level','Pay_Scale','Work_Life_balance']\n",
    "for col in cat_features:\n",
    "    train[col]=train[col].astype(str)\n",
    "    test[col]=test[col].astype(str)"
   ]
  },
  {
   "cell_type": "code",
   "execution_count": 28,
   "metadata": {},
   "outputs": [],
   "source": [
    "train.drop('Employee_ID',axis=1,inplace=True)\n",
    "test.drop('Employee_ID',axis=1,inplace=True)"
   ]
  },
  {
   "cell_type": "code",
   "execution_count": 29,
   "metadata": {},
   "outputs": [
    {
     "data": {
      "text/html": [
       "<div>\n",
       "<style scoped>\n",
       "    .dataframe tbody tr th:only-of-type {\n",
       "        vertical-align: middle;\n",
       "    }\n",
       "\n",
       "    .dataframe tbody tr th {\n",
       "        vertical-align: top;\n",
       "    }\n",
       "\n",
       "    .dataframe thead th {\n",
       "        text-align: right;\n",
       "    }\n",
       "</style>\n",
       "<table border=\"1\" class=\"dataframe\">\n",
       "  <thead>\n",
       "    <tr style=\"text-align: right;\">\n",
       "      <th></th>\n",
       "      <th>Gender</th>\n",
       "      <th>Education_Level</th>\n",
       "      <th>Relationship_Status</th>\n",
       "      <th>Hometown</th>\n",
       "      <th>Unit</th>\n",
       "      <th>Decision_skill_possess</th>\n",
       "      <th>Post_Level</th>\n",
       "      <th>Pay_Scale</th>\n",
       "      <th>Compensation_and_Benefits</th>\n",
       "      <th>Work_Life_balance</th>\n",
       "    </tr>\n",
       "  </thead>\n",
       "  <tbody>\n",
       "    <tr>\n",
       "      <th>count</th>\n",
       "      <td>7000</td>\n",
       "      <td>7000</td>\n",
       "      <td>7000</td>\n",
       "      <td>7000</td>\n",
       "      <td>7000</td>\n",
       "      <td>7000</td>\n",
       "      <td>7000</td>\n",
       "      <td>7000</td>\n",
       "      <td>7000</td>\n",
       "      <td>7000</td>\n",
       "    </tr>\n",
       "    <tr>\n",
       "      <th>unique</th>\n",
       "      <td>2</td>\n",
       "      <td>5</td>\n",
       "      <td>2</td>\n",
       "      <td>5</td>\n",
       "      <td>12</td>\n",
       "      <td>4</td>\n",
       "      <td>5</td>\n",
       "      <td>11</td>\n",
       "      <td>5</td>\n",
       "      <td>5</td>\n",
       "    </tr>\n",
       "    <tr>\n",
       "      <th>top</th>\n",
       "      <td>F</td>\n",
       "      <td>3</td>\n",
       "      <td>Married</td>\n",
       "      <td>Lebanon</td>\n",
       "      <td>IT</td>\n",
       "      <td>Conceptual</td>\n",
       "      <td>3</td>\n",
       "      <td>8.0</td>\n",
       "      <td>type2</td>\n",
       "      <td>1.0</td>\n",
       "    </tr>\n",
       "    <tr>\n",
       "      <th>freq</th>\n",
       "      <td>4114</td>\n",
       "      <td>2878</td>\n",
       "      <td>4520</td>\n",
       "      <td>2070</td>\n",
       "      <td>1394</td>\n",
       "      <td>1756</td>\n",
       "      <td>2435</td>\n",
       "      <td>1392</td>\n",
       "      <td>3945</td>\n",
       "      <td>2053</td>\n",
       "    </tr>\n",
       "  </tbody>\n",
       "</table>\n",
       "</div>"
      ],
      "text/plain": [
       "       Gender Education_Level Relationship_Status Hometown  Unit  \\\n",
       "count    7000            7000                7000     7000  7000   \n",
       "unique      2               5                   2        5    12   \n",
       "top         F               3             Married  Lebanon    IT   \n",
       "freq     4114            2878                4520     2070  1394   \n",
       "\n",
       "       Decision_skill_possess Post_Level Pay_Scale Compensation_and_Benefits  \\\n",
       "count                    7000       7000      7000                      7000   \n",
       "unique                      4          5        11                         5   \n",
       "top                Conceptual          3       8.0                     type2   \n",
       "freq                     1756       2435      1392                      3945   \n",
       "\n",
       "       Work_Life_balance  \n",
       "count               7000  \n",
       "unique                 5  \n",
       "top                  1.0  \n",
       "freq                2053  "
      ]
     },
     "execution_count": 29,
     "metadata": {},
     "output_type": "execute_result"
    }
   ],
   "source": [
    "train.describe(exclude='number')"
   ]
  },
  {
   "cell_type": "code",
   "execution_count": 30,
   "metadata": {},
   "outputs": [
    {
     "data": {
      "text/html": [
       "<div>\n",
       "<style scoped>\n",
       "    .dataframe tbody tr th:only-of-type {\n",
       "        vertical-align: middle;\n",
       "    }\n",
       "\n",
       "    .dataframe tbody tr th {\n",
       "        vertical-align: top;\n",
       "    }\n",
       "\n",
       "    .dataframe thead th {\n",
       "        text-align: right;\n",
       "    }\n",
       "</style>\n",
       "<table border=\"1\" class=\"dataframe\">\n",
       "  <thead>\n",
       "    <tr style=\"text-align: right;\">\n",
       "      <th></th>\n",
       "      <th>Age</th>\n",
       "      <th>Time_of_service</th>\n",
       "      <th>Time_since_promotion</th>\n",
       "      <th>growth_rate</th>\n",
       "      <th>Travel_Rate</th>\n",
       "      <th>VAR1</th>\n",
       "      <th>VAR2</th>\n",
       "      <th>VAR3</th>\n",
       "      <th>VAR4</th>\n",
       "      <th>VAR5</th>\n",
       "      <th>VAR6</th>\n",
       "      <th>VAR7</th>\n",
       "      <th>Attrition_rate</th>\n",
       "    </tr>\n",
       "  </thead>\n",
       "  <tbody>\n",
       "    <tr>\n",
       "      <th>count</th>\n",
       "      <td>7000.000000</td>\n",
       "      <td>7000.000000</td>\n",
       "      <td>7000.000000</td>\n",
       "      <td>7000.000000</td>\n",
       "      <td>7000.000000</td>\n",
       "      <td>7000.000000</td>\n",
       "      <td>7000.000000</td>\n",
       "      <td>7000.000000</td>\n",
       "      <td>7000.000000</td>\n",
       "      <td>7000.000000</td>\n",
       "      <td>7000.000000</td>\n",
       "      <td>7000.000000</td>\n",
       "      <td>7000.000000</td>\n",
       "    </tr>\n",
       "    <tr>\n",
       "      <th>mean</th>\n",
       "      <td>39.468429</td>\n",
       "      <td>13.130286</td>\n",
       "      <td>2.367143</td>\n",
       "      <td>47.064286</td>\n",
       "      <td>0.817857</td>\n",
       "      <td>3.098571</td>\n",
       "      <td>-0.016095</td>\n",
       "      <td>-0.013606</td>\n",
       "      <td>1.901286</td>\n",
       "      <td>2.834143</td>\n",
       "      <td>7.101286</td>\n",
       "      <td>3.257000</td>\n",
       "      <td>0.189376</td>\n",
       "    </tr>\n",
       "    <tr>\n",
       "      <th>std</th>\n",
       "      <td>13.214784</td>\n",
       "      <td>10.406601</td>\n",
       "      <td>1.149395</td>\n",
       "      <td>15.761406</td>\n",
       "      <td>0.648205</td>\n",
       "      <td>0.836377</td>\n",
       "      <td>0.948543</td>\n",
       "      <td>0.986933</td>\n",
       "      <td>0.504981</td>\n",
       "      <td>0.938945</td>\n",
       "      <td>1.164262</td>\n",
       "      <td>0.925319</td>\n",
       "      <td>0.185753</td>\n",
       "    </tr>\n",
       "    <tr>\n",
       "      <th>min</th>\n",
       "      <td>19.000000</td>\n",
       "      <td>0.000000</td>\n",
       "      <td>0.000000</td>\n",
       "      <td>20.000000</td>\n",
       "      <td>0.000000</td>\n",
       "      <td>1.000000</td>\n",
       "      <td>-1.817600</td>\n",
       "      <td>-2.776200</td>\n",
       "      <td>1.000000</td>\n",
       "      <td>1.000000</td>\n",
       "      <td>5.000000</td>\n",
       "      <td>1.000000</td>\n",
       "      <td>0.000000</td>\n",
       "    </tr>\n",
       "    <tr>\n",
       "      <th>25%</th>\n",
       "      <td>28.000000</td>\n",
       "      <td>5.000000</td>\n",
       "      <td>1.000000</td>\n",
       "      <td>33.000000</td>\n",
       "      <td>0.000000</td>\n",
       "      <td>3.000000</td>\n",
       "      <td>-0.961200</td>\n",
       "      <td>-0.453700</td>\n",
       "      <td>2.000000</td>\n",
       "      <td>2.000000</td>\n",
       "      <td>6.000000</td>\n",
       "      <td>3.000000</td>\n",
       "      <td>0.070400</td>\n",
       "    </tr>\n",
       "    <tr>\n",
       "      <th>50%</th>\n",
       "      <td>37.000000</td>\n",
       "      <td>10.000000</td>\n",
       "      <td>2.000000</td>\n",
       "      <td>47.000000</td>\n",
       "      <td>1.000000</td>\n",
       "      <td>3.000000</td>\n",
       "      <td>-0.104800</td>\n",
       "      <td>-0.453700</td>\n",
       "      <td>2.000000</td>\n",
       "      <td>3.000000</td>\n",
       "      <td>7.000000</td>\n",
       "      <td>3.000000</td>\n",
       "      <td>0.142650</td>\n",
       "    </tr>\n",
       "    <tr>\n",
       "      <th>75%</th>\n",
       "      <td>51.000000</td>\n",
       "      <td>20.000000</td>\n",
       "      <td>3.000000</td>\n",
       "      <td>61.000000</td>\n",
       "      <td>1.000000</td>\n",
       "      <td>3.000000</td>\n",
       "      <td>0.751600</td>\n",
       "      <td>0.707500</td>\n",
       "      <td>2.000000</td>\n",
       "      <td>3.000000</td>\n",
       "      <td>8.000000</td>\n",
       "      <td>4.000000</td>\n",
       "      <td>0.235000</td>\n",
       "    </tr>\n",
       "    <tr>\n",
       "      <th>max</th>\n",
       "      <td>65.000000</td>\n",
       "      <td>43.000000</td>\n",
       "      <td>4.000000</td>\n",
       "      <td>74.000000</td>\n",
       "      <td>2.000000</td>\n",
       "      <td>5.000000</td>\n",
       "      <td>1.608100</td>\n",
       "      <td>1.868800</td>\n",
       "      <td>3.000000</td>\n",
       "      <td>5.000000</td>\n",
       "      <td>9.000000</td>\n",
       "      <td>5.000000</td>\n",
       "      <td>0.995900</td>\n",
       "    </tr>\n",
       "  </tbody>\n",
       "</table>\n",
       "</div>"
      ],
      "text/plain": [
       "               Age  Time_of_service  Time_since_promotion  growth_rate  \\\n",
       "count  7000.000000      7000.000000           7000.000000  7000.000000   \n",
       "mean     39.468429        13.130286              2.367143    47.064286   \n",
       "std      13.214784        10.406601              1.149395    15.761406   \n",
       "min      19.000000         0.000000              0.000000    20.000000   \n",
       "25%      28.000000         5.000000              1.000000    33.000000   \n",
       "50%      37.000000        10.000000              2.000000    47.000000   \n",
       "75%      51.000000        20.000000              3.000000    61.000000   \n",
       "max      65.000000        43.000000              4.000000    74.000000   \n",
       "\n",
       "       Travel_Rate         VAR1         VAR2         VAR3         VAR4  \\\n",
       "count  7000.000000  7000.000000  7000.000000  7000.000000  7000.000000   \n",
       "mean      0.817857     3.098571    -0.016095    -0.013606     1.901286   \n",
       "std       0.648205     0.836377     0.948543     0.986933     0.504981   \n",
       "min       0.000000     1.000000    -1.817600    -2.776200     1.000000   \n",
       "25%       0.000000     3.000000    -0.961200    -0.453700     2.000000   \n",
       "50%       1.000000     3.000000    -0.104800    -0.453700     2.000000   \n",
       "75%       1.000000     3.000000     0.751600     0.707500     2.000000   \n",
       "max       2.000000     5.000000     1.608100     1.868800     3.000000   \n",
       "\n",
       "              VAR5         VAR6         VAR7  Attrition_rate  \n",
       "count  7000.000000  7000.000000  7000.000000     7000.000000  \n",
       "mean      2.834143     7.101286     3.257000        0.189376  \n",
       "std       0.938945     1.164262     0.925319        0.185753  \n",
       "min       1.000000     5.000000     1.000000        0.000000  \n",
       "25%       2.000000     6.000000     3.000000        0.070400  \n",
       "50%       3.000000     7.000000     3.000000        0.142650  \n",
       "75%       3.000000     8.000000     4.000000        0.235000  \n",
       "max       5.000000     9.000000     5.000000        0.995900  "
      ]
     },
     "execution_count": 30,
     "metadata": {},
     "output_type": "execute_result"
    }
   ],
   "source": [
    "train.describe()"
   ]
  },
  {
   "cell_type": "markdown",
   "metadata": {},
   "source": [
    "# Feature generation"
   ]
  },
  {
   "cell_type": "code",
   "execution_count": 31,
   "metadata": {},
   "outputs": [],
   "source": [
    "train['isloyal']=(train.Time_of_service>=10).astype(int)\n",
    "train['isrecentpromoted']=(train.Time_since_promotion<=2).astype(int)\n",
    "train['isloyalnotpromoted']=((train.Time_of_service>=10)&(train.Time_since_promotion>=2))\n",
    "train['istopnotpromotes']=((train.Post_Level.astype(int)>=3)&(train.Time_since_promotion>=2)).astype(int)\n",
    "train['islowernotpromotes']=((train.Post_Level.astype(int)<=3)&(train.Time_since_promotion>=2)).astype(int)"
   ]
  },
  {
   "cell_type": "code",
   "execution_count": 32,
   "metadata": {},
   "outputs": [],
   "source": [
    "test['isloyal']=(test.Time_of_service>=10).astype(int)\n",
    "test['isrecentpromoted']=(test.Time_since_promotion<=2).astype(int)\n",
    "test['isloyalnotpromoted']=((test.Time_of_service>=10)&(test.Time_since_promotion>=2))\n",
    "test['istopnotpromotes']=((test.Post_Level.astype(int)>=3)&(test.Time_since_promotion>=2)).astype(int)\n",
    "test['islowernotpromotes']=((test.Post_Level.astype(int)<=3)&(test.Time_since_promotion>=2)).astype(int)"
   ]
  },
  {
   "cell_type": "code",
   "execution_count": 33,
   "metadata": {},
   "outputs": [],
   "source": [
    "train['Agecat']=train.Age.apply(lambda x:1 if x<27 else 2 if x<37 else 3 if x<52 else 4)\n",
    "test['Agecat']=test.Age.apply(lambda x:1 if x<27 else 2 if x<37 else 3 if x<52 else 4)"
   ]
  },
  {
   "cell_type": "code",
   "execution_count": 34,
   "metadata": {},
   "outputs": [],
   "source": [
    "import itertools\n",
    "cat_features=train.columns[train.dtypes==object]\n",
    "new=pd.DataFrame(index=train.index)\n",
    "for col1,col2 in itertools.combinations(cat_features,2):\n",
    "    new[col1+col2]=train[col1]+train[col2]"
   ]
  },
  {
   "cell_type": "code",
   "execution_count": 35,
   "metadata": {},
   "outputs": [
    {
     "data": {
      "text/html": [
       "<div>\n",
       "<style scoped>\n",
       "    .dataframe tbody tr th:only-of-type {\n",
       "        vertical-align: middle;\n",
       "    }\n",
       "\n",
       "    .dataframe tbody tr th {\n",
       "        vertical-align: top;\n",
       "    }\n",
       "\n",
       "    .dataframe thead th {\n",
       "        text-align: right;\n",
       "    }\n",
       "</style>\n",
       "<table border=\"1\" class=\"dataframe\">\n",
       "  <thead>\n",
       "    <tr style=\"text-align: right;\">\n",
       "      <th></th>\n",
       "      <th>GenderEducation_Level</th>\n",
       "      <th>GenderRelationship_Status</th>\n",
       "      <th>GenderHometown</th>\n",
       "      <th>GenderUnit</th>\n",
       "      <th>GenderDecision_skill_possess</th>\n",
       "      <th>GenderPost_Level</th>\n",
       "      <th>GenderPay_Scale</th>\n",
       "      <th>GenderCompensation_and_Benefits</th>\n",
       "      <th>GenderWork_Life_balance</th>\n",
       "      <th>Education_LevelRelationship_Status</th>\n",
       "      <th>...</th>\n",
       "      <th>Decision_skill_possessPost_Level</th>\n",
       "      <th>Decision_skill_possessPay_Scale</th>\n",
       "      <th>Decision_skill_possessCompensation_and_Benefits</th>\n",
       "      <th>Decision_skill_possessWork_Life_balance</th>\n",
       "      <th>Post_LevelPay_Scale</th>\n",
       "      <th>Post_LevelCompensation_and_Benefits</th>\n",
       "      <th>Post_LevelWork_Life_balance</th>\n",
       "      <th>Pay_ScaleCompensation_and_Benefits</th>\n",
       "      <th>Pay_ScaleWork_Life_balance</th>\n",
       "      <th>Compensation_and_BenefitsWork_Life_balance</th>\n",
       "    </tr>\n",
       "  </thead>\n",
       "  <tbody>\n",
       "    <tr>\n",
       "      <th>0</th>\n",
       "      <td>F4</td>\n",
       "      <td>FMarried</td>\n",
       "      <td>FFranklin</td>\n",
       "      <td>FIT</td>\n",
       "      <td>FConceptual</td>\n",
       "      <td>F1</td>\n",
       "      <td>F7.0</td>\n",
       "      <td>Ftype2</td>\n",
       "      <td>F3.0</td>\n",
       "      <td>4Married</td>\n",
       "      <td>...</td>\n",
       "      <td>Conceptual1</td>\n",
       "      <td>Conceptual7.0</td>\n",
       "      <td>Conceptualtype2</td>\n",
       "      <td>Conceptual3.0</td>\n",
       "      <td>17.0</td>\n",
       "      <td>1type2</td>\n",
       "      <td>13.0</td>\n",
       "      <td>7.0type2</td>\n",
       "      <td>7.03.0</td>\n",
       "      <td>type23.0</td>\n",
       "    </tr>\n",
       "    <tr>\n",
       "      <th>1</th>\n",
       "      <td>M3</td>\n",
       "      <td>MSingle</td>\n",
       "      <td>MSpringfield</td>\n",
       "      <td>MLogistics</td>\n",
       "      <td>MAnalytical</td>\n",
       "      <td>M3</td>\n",
       "      <td>M6.0</td>\n",
       "      <td>Mtype2</td>\n",
       "      <td>M4.0</td>\n",
       "      <td>3Single</td>\n",
       "      <td>...</td>\n",
       "      <td>Analytical3</td>\n",
       "      <td>Analytical6.0</td>\n",
       "      <td>Analyticaltype2</td>\n",
       "      <td>Analytical4.0</td>\n",
       "      <td>36.0</td>\n",
       "      <td>3type2</td>\n",
       "      <td>34.0</td>\n",
       "      <td>6.0type2</td>\n",
       "      <td>6.04.0</td>\n",
       "      <td>type24.0</td>\n",
       "    </tr>\n",
       "    <tr>\n",
       "      <th>2</th>\n",
       "      <td>F3</td>\n",
       "      <td>FMarried</td>\n",
       "      <td>FClinton</td>\n",
       "      <td>FQuality</td>\n",
       "      <td>FConceptual</td>\n",
       "      <td>F2</td>\n",
       "      <td>F8.0</td>\n",
       "      <td>Ftype2</td>\n",
       "      <td>F1.0</td>\n",
       "      <td>3Married</td>\n",
       "      <td>...</td>\n",
       "      <td>Conceptual2</td>\n",
       "      <td>Conceptual8.0</td>\n",
       "      <td>Conceptualtype2</td>\n",
       "      <td>Conceptual1.0</td>\n",
       "      <td>28.0</td>\n",
       "      <td>2type2</td>\n",
       "      <td>21.0</td>\n",
       "      <td>8.0type2</td>\n",
       "      <td>8.01.0</td>\n",
       "      <td>type21.0</td>\n",
       "    </tr>\n",
       "    <tr>\n",
       "      <th>3</th>\n",
       "      <td>F3</td>\n",
       "      <td>FSingle</td>\n",
       "      <td>FLebanon</td>\n",
       "      <td>FHuman Resource Management</td>\n",
       "      <td>FBehavioral</td>\n",
       "      <td>F3</td>\n",
       "      <td>F8.0</td>\n",
       "      <td>Ftype2</td>\n",
       "      <td>F1.0</td>\n",
       "      <td>3Single</td>\n",
       "      <td>...</td>\n",
       "      <td>Behavioral3</td>\n",
       "      <td>Behavioral8.0</td>\n",
       "      <td>Behavioraltype2</td>\n",
       "      <td>Behavioral1.0</td>\n",
       "      <td>38.0</td>\n",
       "      <td>3type2</td>\n",
       "      <td>31.0</td>\n",
       "      <td>8.0type2</td>\n",
       "      <td>8.01.0</td>\n",
       "      <td>type21.0</td>\n",
       "    </tr>\n",
       "    <tr>\n",
       "      <th>4</th>\n",
       "      <td>F1</td>\n",
       "      <td>FMarried</td>\n",
       "      <td>FSpringfield</td>\n",
       "      <td>FLogistics</td>\n",
       "      <td>FConceptual</td>\n",
       "      <td>F3</td>\n",
       "      <td>F2.0</td>\n",
       "      <td>Ftype3</td>\n",
       "      <td>F3.0</td>\n",
       "      <td>1Married</td>\n",
       "      <td>...</td>\n",
       "      <td>Conceptual3</td>\n",
       "      <td>Conceptual2.0</td>\n",
       "      <td>Conceptualtype3</td>\n",
       "      <td>Conceptual3.0</td>\n",
       "      <td>32.0</td>\n",
       "      <td>3type3</td>\n",
       "      <td>33.0</td>\n",
       "      <td>2.0type3</td>\n",
       "      <td>2.03.0</td>\n",
       "      <td>type33.0</td>\n",
       "    </tr>\n",
       "  </tbody>\n",
       "</table>\n",
       "<p>5 rows × 45 columns</p>\n",
       "</div>"
      ],
      "text/plain": [
       "  GenderEducation_Level GenderRelationship_Status GenderHometown  \\\n",
       "0                    F4                  FMarried      FFranklin   \n",
       "1                    M3                   MSingle   MSpringfield   \n",
       "2                    F3                  FMarried       FClinton   \n",
       "3                    F3                   FSingle       FLebanon   \n",
       "4                    F1                  FMarried   FSpringfield   \n",
       "\n",
       "                   GenderUnit GenderDecision_skill_possess GenderPost_Level  \\\n",
       "0                         FIT                  FConceptual               F1   \n",
       "1                  MLogistics                  MAnalytical               M3   \n",
       "2                    FQuality                  FConceptual               F2   \n",
       "3  FHuman Resource Management                  FBehavioral               F3   \n",
       "4                  FLogistics                  FConceptual               F3   \n",
       "\n",
       "  GenderPay_Scale GenderCompensation_and_Benefits GenderWork_Life_balance  \\\n",
       "0            F7.0                          Ftype2                    F3.0   \n",
       "1            M6.0                          Mtype2                    M4.0   \n",
       "2            F8.0                          Ftype2                    F1.0   \n",
       "3            F8.0                          Ftype2                    F1.0   \n",
       "4            F2.0                          Ftype3                    F3.0   \n",
       "\n",
       "  Education_LevelRelationship_Status  ... Decision_skill_possessPost_Level  \\\n",
       "0                           4Married  ...                      Conceptual1   \n",
       "1                            3Single  ...                      Analytical3   \n",
       "2                           3Married  ...                      Conceptual2   \n",
       "3                            3Single  ...                      Behavioral3   \n",
       "4                           1Married  ...                      Conceptual3   \n",
       "\n",
       "  Decision_skill_possessPay_Scale  \\\n",
       "0                   Conceptual7.0   \n",
       "1                   Analytical6.0   \n",
       "2                   Conceptual8.0   \n",
       "3                   Behavioral8.0   \n",
       "4                   Conceptual2.0   \n",
       "\n",
       "  Decision_skill_possessCompensation_and_Benefits  \\\n",
       "0                                 Conceptualtype2   \n",
       "1                                 Analyticaltype2   \n",
       "2                                 Conceptualtype2   \n",
       "3                                 Behavioraltype2   \n",
       "4                                 Conceptualtype3   \n",
       "\n",
       "  Decision_skill_possessWork_Life_balance Post_LevelPay_Scale  \\\n",
       "0                           Conceptual3.0                17.0   \n",
       "1                           Analytical4.0                36.0   \n",
       "2                           Conceptual1.0                28.0   \n",
       "3                           Behavioral1.0                38.0   \n",
       "4                           Conceptual3.0                32.0   \n",
       "\n",
       "  Post_LevelCompensation_and_Benefits Post_LevelWork_Life_balance  \\\n",
       "0                              1type2                        13.0   \n",
       "1                              3type2                        34.0   \n",
       "2                              2type2                        21.0   \n",
       "3                              3type2                        31.0   \n",
       "4                              3type3                        33.0   \n",
       "\n",
       "  Pay_ScaleCompensation_and_Benefits Pay_ScaleWork_Life_balance  \\\n",
       "0                           7.0type2                     7.03.0   \n",
       "1                           6.0type2                     6.04.0   \n",
       "2                           8.0type2                     8.01.0   \n",
       "3                           8.0type2                     8.01.0   \n",
       "4                           2.0type3                     2.03.0   \n",
       "\n",
       "  Compensation_and_BenefitsWork_Life_balance  \n",
       "0                                   type23.0  \n",
       "1                                   type24.0  \n",
       "2                                   type21.0  \n",
       "3                                   type21.0  \n",
       "4                                   type33.0  \n",
       "\n",
       "[5 rows x 45 columns]"
      ]
     },
     "execution_count": 35,
     "metadata": {},
     "output_type": "execute_result"
    }
   ],
   "source": [
    "new.head()"
   ]
  },
  {
   "cell_type": "code",
   "execution_count": 36,
   "metadata": {},
   "outputs": [],
   "source": [
    "newt=pd.DataFrame(index=test.index)\n",
    "for col1,col2 in itertools.combinations(cat_features,2):\n",
    "    newt[col1+col2]=test[col1]+test[col2]\n",
    "    "
   ]
  },
  {
   "cell_type": "markdown",
   "metadata": {},
   "source": [
    "## EDA (plots)"
   ]
  },
  {
   "cell_type": "code",
   "execution_count": 37,
   "metadata": {},
   "outputs": [
    {
     "data": {
      "text/plain": [
       "<matplotlib.legend.Legend at 0x16b89383dc8>"
      ]
     },
     "execution_count": 37,
     "metadata": {},
     "output_type": "execute_result"
    },
    {
     "data": {
      "image/png": "[encoded data removed]",
      "text/plain": [
       "<Figure size 432x288 with 1 Axes>"
      ]
     },
     "metadata": {
      "needs_background": "light"
     },
     "output_type": "display_data"
    }
   ],
   "source": [
    "train.groupby('Compensation_and_Benefits')['Attrition_rate'].plot(kind='hist',bins=100)\n",
    "plt.legend()"
   ]
  },
  {
   "cell_type": "code",
   "execution_count": 38,
   "metadata": {},
   "outputs": [
    {
     "data": {
      "text/plain": [
       "<matplotlib.legend.Legend at 0x16b8b766ec8>"
      ]
     },
     "execution_count": 38,
     "metadata": {},
     "output_type": "execute_result"
    },
    {
     "data": {
      "image/png": "[encoded data removed]",
      "text/plain": [
       "<Figure size 432x288 with 1 Axes>"
      ]
     },
     "metadata": {
      "needs_background": "light"
     },
     "output_type": "display_data"
    }
   ],
   "source": [
    "train.groupby('Hometown')['Attrition_rate'].plot(kind='hist',bins=100)\n",
    "plt.legend()"
   ]
  },
  {
   "cell_type": "code",
   "execution_count": 39,
   "metadata": {},
   "outputs": [
    {
     "data": {
      "text/plain": [
       "<matplotlib.legend.Legend at 0x16b8bcc9e08>"
      ]
     },
     "execution_count": 39,
     "metadata": {},
     "output_type": "execute_result"
    },
    {
     "data": {
      "image/png": "[encoded data removed]",
      "text/plain": [
       "<Figure size 432x288 with 1 Axes>"
      ]
     },
     "metadata": {
      "needs_background": "light"
     },
     "output_type": "display_data"
    }
   ],
   "source": [
    "train.groupby('Relationship_Status')['Attrition_rate'].plot(kind='hist',bins=100)\n",
    "plt.legend()"
   ]
  },
  {
   "cell_type": "code",
   "execution_count": 40,
   "metadata": {},
   "outputs": [
    {
     "data": {
      "text/plain": [
       "<matplotlib.legend.Legend at 0x16b8c77fa08>"
      ]
     },
     "execution_count": 40,
     "metadata": {},
     "output_type": "execute_result"
    },
    {
     "data": {
      "image/png": "[encoded data removed]",
      "text/plain": [
       "<Figure size 432x288 with 1 Axes>"
      ]
     },
     "metadata": {
      "needs_background": "light"
     },
     "output_type": "display_data"
    }
   ],
   "source": [
    "train.groupby('Agecat')['Attrition_rate'].plot(kind='hist',bins=100)\n",
    "plt.legend()"
   ]
  },
  {
   "cell_type": "code",
   "execution_count": 41,
   "metadata": {},
   "outputs": [
    {
     "data": {
      "text/plain": [
       "<matplotlib.legend.Legend at 0x16b8bd81748>"
      ]
     },
     "execution_count": 41,
     "metadata": {},
     "output_type": "execute_result"
    },
    {
     "data": {
      "image/png": "[encoded data removed]",
      "text/plain": [
       "<Figure size 432x288 with 1 Axes>"
      ]
     },
     "metadata": {
      "needs_background": "light"
     },
     "output_type": "display_data"
    }
   ],
   "source": [
    "train.groupby('Time_since_promotion')['Attrition_rate'].plot(kind='hist',bins=100)\n",
    "plt.legend()"
   ]
  },
  {
   "cell_type": "code",
   "execution_count": 42,
   "metadata": {},
   "outputs": [
    {
     "data": {
      "text/plain": [
       "<matplotlib.legend.Legend at 0x16b8cc79648>"
      ]
     },
     "execution_count": 42,
     "metadata": {},
     "output_type": "execute_result"
    },
    {
     "data": {
      "image/png": "[encoded data removed]",
      "text/plain": [
       "<Figure size 432x288 with 1 Axes>"
      ]
     },
     "metadata": {
      "needs_background": "light"
     },
     "output_type": "display_data"
    }
   ],
   "source": [
    "train.groupby('Unit')['Attrition_rate'].plot(kind='hist',bins=100)\n",
    "plt.legend()"
   ]
  },
  {
   "cell_type": "markdown",
   "metadata": {},
   "source": [
    "# More robust model"
   ]
  },
  {
   "cell_type": "code",
   "execution_count": 43,
   "metadata": {},
   "outputs": [],
   "source": [
    "train=train.join(new)\n",
    "test=test.join(newt)"
   ]
  },
  {
   "cell_type": "code",
   "execution_count": 44,
   "metadata": {},
   "outputs": [],
   "source": [
    "cat_features=train.columns[train.dtypes==object]\n",
    "for col in cat_features:\n",
    "    le.fit(train[col])\n",
    "    test[col]=le.transform(test[col])\n",
    "    train[col]=le.transform(train[col])"
   ]
  },
  {
   "cell_type": "code",
   "execution_count": 45,
   "metadata": {},
   "outputs": [
    {
     "data": {
      "text/plain": [
       "Gender                                        0\n",
       "Age                                           0\n",
       "Education_Level                               0\n",
       "Relationship_Status                           0\n",
       "Hometown                                      0\n",
       "                                             ..\n",
       "Post_LevelCompensation_and_Benefits           0\n",
       "Post_LevelWork_Life_balance                   0\n",
       "Pay_ScaleCompensation_and_Benefits            0\n",
       "Pay_ScaleWork_Life_balance                    0\n",
       "Compensation_and_BenefitsWork_Life_balance    0\n",
       "Length: 73, dtype: int64"
      ]
     },
     "execution_count": 45,
     "metadata": {},
     "output_type": "execute_result"
    }
   ],
   "source": [
    "test.isnull().sum()"
   ]
  },
  {
   "cell_type": "code",
   "execution_count": 46,
   "metadata": {},
   "outputs": [],
   "source": [
    "_=train.copy()\n",
    "_.dropna(inplace=True)"
   ]
  },
  {
   "cell_type": "code",
   "execution_count": 47,
   "metadata": {},
   "outputs": [],
   "source": [
    "feature=_.drop('Attrition_rate',axis=1)\n",
    "label=_.Attrition_rate"
   ]
  },
  {
   "cell_type": "markdown",
   "metadata": {},
   "source": [
    "# Feature selection"
   ]
  },
  {
   "cell_type": "code",
   "execution_count": 48,
   "metadata": {},
   "outputs": [
    {
     "data": {
      "text/plain": [
       "Gender                                        0\n",
       "Age                                           0\n",
       "Education_Level                               0\n",
       "Relationship_Status                           0\n",
       "Hometown                                      0\n",
       "                                             ..\n",
       "Post_LevelCompensation_and_Benefits           0\n",
       "Post_LevelWork_Life_balance                   0\n",
       "Pay_ScaleCompensation_and_Benefits            0\n",
       "Pay_ScaleWork_Life_balance                    0\n",
       "Compensation_and_BenefitsWork_Life_balance    0\n",
       "Length: 73, dtype: int64"
      ]
     },
     "execution_count": 48,
     "metadata": {},
     "output_type": "execute_result"
    }
   ],
   "source": [
    "feature.isnull().sum()"
   ]
  },
  {
   "cell_type": "code",
   "execution_count": 49,
   "metadata": {},
   "outputs": [],
   "source": [
    "from sklearn.tree import DecisionTreeRegressor\n",
    "from sklearn.feature_selection import RFE\n",
    "dt=DecisionTreeRegressor()\n",
    "rfe=RFE(dt,n_features_to_select=15,step=1).fit(feature,label)"
   ]
  },
  {
   "cell_type": "code",
   "execution_count": 50,
   "metadata": {},
   "outputs": [],
   "source": [
    "selected_fea=feature.columns[rfe.support_]"
   ]
  },
  {
   "cell_type": "markdown",
   "metadata": {},
   "source": [
    "# Final model validation"
   ]
  },
  {
   "cell_type": "code",
   "execution_count": 51,
   "metadata": {},
   "outputs": [
    {
     "data": {
      "text/html": [
       "<div>\n",
       "<style scoped>\n",
       "    .dataframe tbody tr th:only-of-type {\n",
       "        vertical-align: middle;\n",
       "    }\n",
       "\n",
       "    .dataframe tbody tr th {\n",
       "        vertical-align: top;\n",
       "    }\n",
       "\n",
       "    .dataframe thead th {\n",
       "        text-align: right;\n",
       "    }\n",
       "</style>\n",
       "<table border=\"1\" class=\"dataframe\">\n",
       "  <thead>\n",
       "    <tr style=\"text-align: right;\">\n",
       "      <th></th>\n",
       "      <th>train-rmse-mean</th>\n",
       "      <th>train-rmse-std</th>\n",
       "      <th>test-rmse-mean</th>\n",
       "      <th>test-rmse-std</th>\n",
       "    </tr>\n",
       "  </thead>\n",
       "  <tbody>\n",
       "    <tr>\n",
       "      <th>0</th>\n",
       "      <td>0.356633</td>\n",
       "      <td>0.000293</td>\n",
       "      <td>0.356633</td>\n",
       "      <td>0.000597</td>\n",
       "    </tr>\n",
       "    <tr>\n",
       "      <th>1</th>\n",
       "      <td>0.351478</td>\n",
       "      <td>0.000289</td>\n",
       "      <td>0.351480</td>\n",
       "      <td>0.000601</td>\n",
       "    </tr>\n",
       "    <tr>\n",
       "      <th>2</th>\n",
       "      <td>0.346455</td>\n",
       "      <td>0.000286</td>\n",
       "      <td>0.346459</td>\n",
       "      <td>0.000605</td>\n",
       "    </tr>\n",
       "    <tr>\n",
       "      <th>3</th>\n",
       "      <td>0.341561</td>\n",
       "      <td>0.000284</td>\n",
       "      <td>0.341566</td>\n",
       "      <td>0.000609</td>\n",
       "    </tr>\n",
       "    <tr>\n",
       "      <th>4</th>\n",
       "      <td>0.336793</td>\n",
       "      <td>0.000281</td>\n",
       "      <td>0.336800</td>\n",
       "      <td>0.000613</td>\n",
       "    </tr>\n",
       "    <tr>\n",
       "      <th>...</th>\n",
       "      <td>...</td>\n",
       "      <td>...</td>\n",
       "      <td>...</td>\n",
       "      <td>...</td>\n",
       "    </tr>\n",
       "    <tr>\n",
       "      <th>227</th>\n",
       "      <td>0.184108</td>\n",
       "      <td>0.000418</td>\n",
       "      <td>0.186208</td>\n",
       "      <td>0.000701</td>\n",
       "    </tr>\n",
       "    <tr>\n",
       "      <th>228</th>\n",
       "      <td>0.184095</td>\n",
       "      <td>0.000415</td>\n",
       "      <td>0.186207</td>\n",
       "      <td>0.000706</td>\n",
       "    </tr>\n",
       "    <tr>\n",
       "      <th>229</th>\n",
       "      <td>0.184079</td>\n",
       "      <td>0.000417</td>\n",
       "      <td>0.186209</td>\n",
       "      <td>0.000705</td>\n",
       "    </tr>\n",
       "    <tr>\n",
       "      <th>230</th>\n",
       "      <td>0.184066</td>\n",
       "      <td>0.000418</td>\n",
       "      <td>0.186208</td>\n",
       "      <td>0.000708</td>\n",
       "    </tr>\n",
       "    <tr>\n",
       "      <th>231</th>\n",
       "      <td>0.184051</td>\n",
       "      <td>0.000416</td>\n",
       "      <td>0.186204</td>\n",
       "      <td>0.000706</td>\n",
       "    </tr>\n",
       "  </tbody>\n",
       "</table>\n",
       "<p>232 rows × 4 columns</p>\n",
       "</div>"
      ],
      "text/plain": [
       "     train-rmse-mean  train-rmse-std  test-rmse-mean  test-rmse-std\n",
       "0           0.356633        0.000293        0.356633       0.000597\n",
       "1           0.351478        0.000289        0.351480       0.000601\n",
       "2           0.346455        0.000286        0.346459       0.000605\n",
       "3           0.341561        0.000284        0.341566       0.000609\n",
       "4           0.336793        0.000281        0.336800       0.000613\n",
       "..               ...             ...             ...            ...\n",
       "227         0.184108        0.000418        0.186208       0.000701\n",
       "228         0.184095        0.000415        0.186207       0.000706\n",
       "229         0.184079        0.000417        0.186209       0.000705\n",
       "230         0.184066        0.000418        0.186208       0.000708\n",
       "231         0.184051        0.000416        0.186204       0.000706\n",
       "\n",
       "[232 rows x 4 columns]"
      ]
     },
     "execution_count": 51,
     "metadata": {},
     "output_type": "execute_result"
    }
   ],
   "source": [
    "import xgboost as xgb\n",
    "dmatrix=xgb.DMatrix(feature[selected_fea],label)\n",
    "params={'objective':'reg:squarederror','max_depth':5,'colsample_bytree':.5,'eta':.02,'alpha':8}\n",
    "result=xgb.cv(params,dmatrix,num_boost_round=1000,early_stopping_rounds=20,as_pandas=True,nfold=3)\n",
    "result"
   ]
  },
  {
   "cell_type": "code",
   "execution_count": 52,
   "metadata": {},
   "outputs": [
    {
     "data": {
      "text/plain": [
       "<matplotlib.axes._subplots.AxesSubplot at 0x16b8ef95148>"
      ]
     },
     "execution_count": 52,
     "metadata": {},
     "output_type": "execute_result"
    },
    {
     "data": {
      "image/png": "[encoded data removed]",
      "text/plain": [
       "<Figure size 432x288 with 1 Axes>"
      ]
     },
     "metadata": {
      "needs_background": "light"
     },
     "output_type": "display_data"
    }
   ],
   "source": [
    "xgb_cl=xgb.train(params,dmatrix,num_boost_round=231)\n",
    "xgb.plot_importance(xgb_cl)"
   ]
  },
  {
   "cell_type": "markdown",
   "metadata": {},
   "source": [
    "selected_col=['Compensation_and_BenefitsWork_Life_balance','Post_LevelPay_Scale','Pay_ScaleWork_Life_balance','Time_of_service','UnitWork_Life_balance','growth_rate','Age','Education_LevelPay_Scale','Decision_skill_possessWork_Life_balance','UnitPay_Scale','HometownPost_Level','HometownPay_Scale','Decision_skill_possessPay_Scale','VAR6']"
   ]
  },
  {
   "cell_type": "code",
   "execution_count": null,
   "metadata": {},
   "outputs": [],
   "source": []
  },
  {
   "cell_type": "code",
   "execution_count": 53,
   "metadata": {},
   "outputs": [
    {
     "data": {
      "text/plain": [
       "[0.1835777662399854,\n",
       " 0.19026329073933698,\n",
       " 0.18804235878800363,\n",
       " 0.18197276132482593,\n",
       " 0.19688215947906162]"
      ]
     },
     "execution_count": 53,
     "metadata": {},
     "output_type": "execute_result"
    }
   ],
   "source": [
    "score=[]\n",
    "for i in range(5):\n",
    "    X_train,X_test,y_train,y_test=train_test_split(feature[selected_fea],label)\n",
    "    lgb=LGBMRegressor(max_depth=5,learning_rate=.01,n_estimators=100,subsample_for_bin=3000,subsample=.6,colsample_bytree=.6,num_leaves=20)\n",
    "    lgb.fit(X_train,y_train)\n",
    "    y_pred=lgb.predict(X_test)\n",
    "    score.append(np.sqrt(mean_squared_error(y_test,y_pred)))\n",
    "score    "
   ]
  },
  {
   "cell_type": "markdown",
   "metadata": {},
   "source": [
    "# Final model"
   ]
  },
  {
   "cell_type": "code",
   "execution_count": 55,
   "metadata": {},
   "outputs": [],
   "source": [
    "lgb.fit(feature[selected_fea],label)\n",
    "y_pred=lgb.predict(test[selected_fea])"
   ]
  },
  {
   "cell_type": "code",
   "execution_count": 56,
   "metadata": {},
   "outputs": [
    {
     "name": "stderr",
     "output_type": "stream",
     "text": [
      "C:\\Users\\pankaj\\Anaconda3\\lib\\site-packages\\ipykernel_launcher.py:4: SettingWithCopyWarning: \n",
      "A value is trying to be set on a copy of a slice from a DataFrame.\n",
      "Try using .loc[row_indexer,col_indexer] = value instead\n",
      "\n",
      "See the caveats in the documentation: https://pandas.pydata.org/pandas-docs/stable/user_guide/indexing.html#returning-a-view-versus-a-copy\n",
      "  after removing the cwd from sys.path.\n"
     ]
    }
   ],
   "source": [
    "#y_pred=xgb_cl.predict(xgb.DMatrix(test[selected_fea]))\n",
    "t=pd.read_csv(r'D:\\Downloads\\Compressed\\attrition prediction\\Dataset\\Test.csv')\n",
    "save=t[['Employee_ID']]\n",
    "save['Attrition_rate']=y_pred\n",
    "save.to_csv(r'C:\\Users\\pankaj\\Desktop\\Attrition rate\\sellgb15newlgbrandomsea.csv',index=False)"
   ]
  },
  {
   "cell_type": "markdown",
   "metadata": {},
   "source": [
    "# Grid search"
   ]
  },
  {
   "cell_type": "code",
   "execution_count": 133,
   "metadata": {},
   "outputs": [],
   "source": [
    "from sklearn.model_selection import GridSearchCV\n",
    "params={'max_depth':[3,5,8],'learning_rate':[.1,.01,.2],'n_estimators':[50,100,300,500],'subsample_for_bin':[3000,5000,7000],'subsample':[.6,.8],'colsample_bytree':[.6,.8,1]}\n",
    "gs=GridSearchCV(lgb,params,scoring='neg_mean_squared_error',n_jobs=-1).fit(feature[selected_fea],label)"
   ]
  },
  {
   "cell_type": "code",
   "execution_count": 134,
   "metadata": {},
   "outputs": [
    {
     "data": {
      "text/plain": [
       "{'colsample_bytree': 0.6,\n",
       " 'learning_rate': 0.01,\n",
       " 'max_depth': 3,\n",
       " 'n_estimators': 50,\n",
       " 'subsample': 0.6,\n",
       " 'subsample_for_bin': 3000}"
      ]
     },
     "execution_count": 134,
     "metadata": {},
     "output_type": "execute_result"
    }
   ],
   "source": [
    "gs.best_params_"
   ]
  },
  {
   "cell_type": "code",
   "execution_count": null,
   "metadata": {},
   "outputs": [],
   "source": []
  },
  {
   "cell_type": "raw",
   "metadata": {},
   "source": [
    "best(81.316) v2 fea15 lgb max_depth=5,learning_rate=.01,n_estimators=100,subsample_for_bin=3000,subsample=.6,colsample_bytree=.6"
   ]
  },
  {
   "cell_type": "raw",
   "metadata": {},
   "source": [
    "best fea10 depth3 reg1"
   ]
  },
  {
   "cell_type": "markdown",
   "metadata": {},
   "source": [
    " on old 10 feature lgb got 81.216"
   ]
  }
 ],
 "metadata": {
  "kernelspec": {
   "display_name": "Python 3",
   "language": "python",
   "name": "python3"
  },
  "language_info": {
   "codemirror_mode": {
    "name": "ipython",
    "version": 3
   },
   "file_extension": ".py",
   "mimetype": "text/x-python",
   "name": "python",
   "nbconvert_exporter": "python",
   "pygments_lexer": "ipython3",
   "version": "3.7.7"
  }
 },
 "nbformat": 4,
 "nbformat_minor": 4
}
